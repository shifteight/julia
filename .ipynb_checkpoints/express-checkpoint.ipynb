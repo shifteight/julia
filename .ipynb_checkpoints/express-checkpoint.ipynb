{
 "cells": [
  {
   "cell_type": "code",
   "execution_count": 1,
   "metadata": {
    "collapsed": false
   },
   "outputs": [
    {
     "name": "stdout",
     "output_type": "stream",
     "text": [
      "Julia Version 0.4.0\n",
      "Commit 0ff703b (2015-10-08 06:20 UTC)\n",
      "Platform Info:\n",
      "  System: Linux (x86_64-redhat-linux)\n",
      "  CPU: Intel(R) Core(TM) i7-4850HQ CPU @ 2.30GHz\n",
      "  WORD_SIZE: 64\n",
      "  BLAS: libopenblas (DYNAMIC_ARCH NO_AFFINITY Haswell)\n",
      "  LAPACK: libopenblasp.so.0\n",
      "  LIBM: libopenlibm\n",
      "  LLVM: libLLVM-3.3\n"
     ]
    }
   ],
   "source": [
    "versioninfo()"
   ]
  },
  {
   "cell_type": "code",
   "execution_count": 2,
   "metadata": {
    "collapsed": false
   },
   "outputs": [
    {
     "name": "stdout",
     "output_type": "stream",
     "text": [
      "# This file is a part of Julia. License is MIT: http://julialang.org/license\n",
      "\n",
      "## type join (closest common ancestor, or least upper bound) ##\n",
      "\n",
      "typejoin() = Bottom\n",
      "typejoin(t::ANY) = t\n",
      "typejoin(t::ANY, ts...) = typejoin(t, typejoin(ts...))\n",
      "function typejoin(a::ANY, b::ANY)\n",
      "    if isa(a,TypeConstructor); a = a.body; end\n",
      "    if isa(b,TypeConstructor); b = b.body; end\n",
      "    if a <: b\n",
      "        return b\n",
      "    elseif b <: a\n",
      "        return a\n",
      "    end\n",
      "    if isa(a,TypeVar)\n",
      "        return typejoin(a.ub, b)\n",
      "    end\n",
      "    if isa(b,TypeVar)\n",
      "        return typejoin(a, b.ub)\n",
      "    end\n",
      "    if isa(a,Union) || isa(b,Union)\n",
      "        u = Union{a, b}\n",
      "        if !isa(u,Union)\n",
      "            return u\n",
      "        end\n",
      "        return reduce(typejoin, Bottom, u.types)\n",
      "    end\n",
      "    if a <: Tuple\n",
      "        if !(b <: Tuple)\n",
      "            return Any\n",
      "        end\n",
      "        ap, bp = a.parameters, b.parameters\n",
      "        la = length(ap)::Int; lb = length(bp)::Int\n",
      "        if la==0 || lb==0\n",
      "            return Tuple\n",
      "        end\n",
      "        if la < lb\n",
      "            if isvarargtype(ap[la])\n",
      "                c = cell(la)\n",
      "                c[la] = Vararg{typejoin(ap[la].parameters[1], tailjoin(bp,la))}\n",
      "                n = la-1\n",
      "            else\n",
      "                c = cell(la+1)\n",
      "                c[la+1] = Vararg{tailjoin(bp,la+1)}\n",
      "                n = la\n",
      "            end\n",
      "        elseif lb < la\n",
      "            if isvarargtype(bp[lb])\n",
      "                c = cell(lb)\n",
      "                c[lb] = Vararg{typejoin(bp[lb].parameters[1], tailjoin(ap,lb))}\n",
      "                n = lb-1\n",
      "            else\n",
      "                c = cell(lb+1)\n",
      "                c[lb+1] = Vararg{tailjoin(ap,lb+1)}\n",
      "                n = lb\n",
      "            end\n",
      "        else\n",
      "            c = cell(la)\n",
      "            n = la\n",
      "        end\n",
      "        for i = 1:n\n",
      "            ai = ap[i]; bi = bp[i]\n",
      "            ci = typejoin(unwrapva(ai),unwrapva(bi))\n",
      "            c[i] = isvarargtype(ai) || isvarargtype(bi) ? Vararg{ci} : ci\n",
      "        end\n",
      "        return Tuple{c...}\n",
      "    elseif b <: Tuple\n",
      "        return Any\n",
      "    end\n",
      "    while !is(b,Any)\n",
      "        if a <: b.name.primary\n",
      "            while a.name !== b.name\n",
      "                a = super(a)\n",
      "            end\n",
      "            # join on parameters\n",
      "            n = length(a.parameters)\n",
      "            p = cell(n)\n",
      "            for i = 1:n\n",
      "                ai, bi = a.parameters[i], b.parameters[i]\n",
      "                if ai === bi || (isa(ai,Type) && isa(bi,Type) && typeseq(ai,bi))\n",
      "                    p[i] = ai\n",
      "                else\n",
      "                    p[i] = a.name.primary.parameters[i]\n",
      "                end\n",
      "            end\n",
      "            return a.name.primary{p...}\n",
      "        end\n",
      "        b = super(b)\n",
      "    end\n",
      "    return Any\n",
      "end\n",
      "\n",
      "# reduce typejoin over A[i:end]\n",
      "function tailjoin(A, i)\n",
      "    t = Bottom\n",
      "    for j = i:length(A)\n",
      "        t = typejoin(t, unwrapva(A[j]))\n",
      "    end\n",
      "    return t\n",
      "end\n",
      "\n",
      "## promotion mechanism ##\n",
      "\n",
      "promote_type()  = Bottom\n",
      "promote_type(T) = T\n",
      "promote_type(T, S, U, V...) = promote_type(T, promote_type(S, U, V...))\n",
      "\n",
      "promote_type(::Type{Bottom}, ::Type{Bottom}) = Bottom\n",
      "promote_type{T}(::Type{T}, ::Type{T}) = T\n",
      "promote_type{T}(::Type{T}, ::Type{Bottom}) = T\n",
      "promote_type{T}(::Type{Bottom}, ::Type{T}) = T\n",
      "\n",
      "# Try promote_rule in both orders. Typically only one is defined,\n",
      "# and there is a fallback returning Bottom below, so the common case is\n",
      "#   promote_type(T, S) =>\n",
      "#   promote_result(T, S, result, Bottom) =>\n",
      "#   typejoin(result, Bottom) => result\n",
      "promote_type{T,S}(::Type{T}, ::Type{S}) =\n",
      "    promote_result(T, S, promote_rule(T,S), promote_rule(S,T))\n",
      "\n",
      "promote_rule(T, S) = Bottom\n",
      "\n",
      "promote_result(t,s,T,S) = promote_type(T,S)\n",
      "# If no promote_rule is defined, both directions give Bottom. In that\n",
      "# case use typejoin on the original types instead.\n",
      "promote_result{T,S}(::Type{T},::Type{S},::Type{Bottom},::Type{Bottom}) = typejoin(T, S)\n",
      "\n",
      "promote() = ()\n",
      "promote(x) = (x,)\n",
      "function promote{T,S}(x::T, y::S)\n",
      "    (convert(promote_type(T,S),x), convert(promote_type(T,S),y))\n",
      "end\n",
      "promote_typeof(x) = typeof(x)\n",
      "promote_typeof(x, xs...) = promote_type(typeof(x), promote_typeof(xs...))\n",
      "function promote(x, y, z)\n",
      "    (convert(promote_typeof(x,y,z), x),\n",
      "     convert(promote_typeof(x,y,z), y),\n",
      "     convert(promote_typeof(x,y,z), z))\n",
      "end\n",
      "function promote(x, y, zs...)\n",
      "    (convert(promote_typeof(x,y,zs...), x),\n",
      "     convert(promote_typeof(x,y,zs...), y),\n",
      "     convert(Tuple{Vararg{promote_typeof(x,y,zs...)}}, zs)...)\n",
      "end\n",
      "# TODO: promote{T}(x::T, ys::T...) here to catch all circularities?\n",
      "\n",
      "## promotions in arithmetic, etc. ##\n",
      "\n",
      "# Because of the promoting fallback definitions for Number, we need\n",
      "# a special case for undefined promote_rule on numeric types.\n",
      "# Otherwise, typejoin(T,S) is called (returning Number) so no conversion\n",
      "# happens, and +(promote(x,y)...) is called again, causing a stack\n",
      "# overflow.\n",
      "promote_result{T<:Number,S<:Number}(::Type{T},::Type{S},::Type{Bottom},::Type{Bottom}) =\n",
      "    promote_to_super(T, S, typejoin(T,S))\n",
      "\n",
      "# promote numeric types T and S to typejoin(T,S) if T<:S or S<:T\n",
      "# for example this makes promote_type(Integer,Real) == Real without\n",
      "# promoting arbitrary pairs of numeric types to Number.\n",
      "promote_to_super{T<:Number          }(::Type{T}, ::Type{T}, ::Type{T}) = T\n",
      "promote_to_super{T<:Number,S<:Number}(::Type{T}, ::Type{S}, ::Type{T}) = T\n",
      "promote_to_super{T<:Number,S<:Number}(::Type{T}, ::Type{S}, ::Type{S}) = S\n",
      "promote_to_super{T<:Number,S<:Number}(::Type{T}, ::Type{S}, ::Type) =\n",
      "    error(\"no promotion exists for \", T, \" and \", S)\n",
      "\n",
      "+(x::Number, y::Number) = +(promote(x,y)...)\n",
      "*(x::Number, y::Number) = *(promote(x,y)...)\n",
      "-(x::Number, y::Number) = -(promote(x,y)...)\n",
      "/(x::Number, y::Number) = /(promote(x,y)...)\n",
      "^(x::Number, y::Number) = ^(promote(x,y)...)\n",
      "\n",
      "fma(x::Number, y::Number, z::Number) = fma(promote(x,y,z)...)\n",
      "muladd(x::Number, y::Number, z::Number) = muladd(promote(x,y,z)...)\n",
      "\n",
      "(&)(x::Integer, y::Integer) = (&)(promote(x,y)...)\n",
      "(|)(x::Integer, y::Integer) = (|)(promote(x,y)...)\n",
      "($)(x::Integer, y::Integer) = ($)(promote(x,y)...)\n",
      "\n",
      "==(x::Number, y::Number) = (==)(promote(x,y)...)\n",
      "<( x::Real, y::Real)     = (< )(promote(x,y)...)\n",
      "<=(x::Real, y::Real)     = (<=)(promote(x,y)...)\n",
      "\n",
      "div(x::Real, y::Real) = div(promote(x,y)...)\n",
      "fld(x::Real, y::Real) = fld(promote(x,y)...)\n",
      "cld(x::Real, y::Real) = cld(promote(x,y)...)\n",
      "rem(x::Real, y::Real) = rem(promote(x,y)...)\n",
      "mod(x::Real, y::Real) = mod(promote(x,y)...)\n",
      "\n",
      "mod1(x::Real, y::Real) = mod1(promote(x,y)...)\n",
      "rem1(x::Real, y::Real) = rem1(promote(x,y)...)\n",
      "fld1(x::Real, y::Real) = fld1(promote(x,y)...)\n",
      "\n",
      "max(x::Real, y::Real) = max(promote(x,y)...)\n",
      "min(x::Real, y::Real) = min(promote(x,y)...)\n",
      "minmax(x::Real, y::Real) = minmax(promote(x, y)...)\n",
      "\n",
      "checked_add(x::Integer, y::Integer) = checked_add(promote(x,y)...)\n",
      "checked_sub(x::Integer, y::Integer) = checked_sub(promote(x,y)...)\n",
      "checked_mul(x::Integer, y::Integer) = checked_mul(promote(x,y)...)\n",
      "\n",
      "# \"Promotion\" that takes a Functor into account. You can override this\n",
      "# as needed. For example, if you need to provide a custom result type\n",
      "# for the multiplication of two types,\n",
      "#   promote_op{R<:MyType,S<:MyType}(::MulFun, ::Type{R}, ::Type{S}) = MyType{multype(R,S)}\n",
      "promote_op{R,S}(::Any, ::Type{R}, ::Type{S}) = promote_type(R, S)\n",
      "\n",
      "## catch-alls to prevent infinite recursion when definitions are missing ##\n",
      "\n",
      "no_op_err(name, T) = error(name,\" not defined for \",T)\n",
      "+{T<:Number}(x::T, y::T) = no_op_err(\"+\", T)\n",
      "*{T<:Number}(x::T, y::T) = no_op_err(\"*\", T)\n",
      "-{T<:Number}(x::T, y::T) = no_op_err(\"-\", T)\n",
      "/{T<:Number}(x::T, y::T) = no_op_err(\"/\", T)\n",
      "^{T<:Number}(x::T, y::T) = no_op_err(\"^\", T)\n",
      "\n",
      "fma{T<:Number}(x::T, y::T, z::T) = no_op_err(\"fma\", T)\n",
      "fma(x::Integer, y::Integer, z::Integer) = x*y+z\n",
      "muladd{T<:Number}(x::T, y::T, z::T) = x*y+z\n",
      "\n",
      "(&){T<:Integer}(x::T, y::T) = no_op_err(\"&\", T)\n",
      "(|){T<:Integer}(x::T, y::T) = no_op_err(\"|\", T)\n",
      "($){T<:Integer}(x::T, y::T) = no_op_err(\"\\$\", T)\n",
      "\n",
      "=={T<:Number}(x::T, y::T) = x === y\n",
      " <{T<:Real}(x::T, y::T) = no_op_err(\"<\" , T)\n",
      "<={T<:Real}(x::T, y::T) = no_op_err(\"<=\", T)\n",
      "\n",
      "div{T<:Real}(x::T, y::T) = no_op_err(\"div\", T)\n",
      "fld{T<:Real}(x::T, y::T) = no_op_err(\"fld\", T)\n",
      "cld{T<:Real}(x::T, y::T) = no_op_err(\"cld\", T)\n",
      "rem{T<:Real}(x::T, y::T) = no_op_err(\"rem\", T)\n",
      "mod{T<:Real}(x::T, y::T) = no_op_err(\"mod\", T)\n",
      "\n",
      "mod1{T<:Real}(x::T, y::T) = no_op_err(\"mod1\", T)\n",
      "rem1{T<:Real}(x::T, y::T) = no_op_err(\"rem1\", T)\n",
      "fld1{T<:Real}(x::T, y::T) = no_op_err(\"fld1\", T)\n",
      "\n",
      "max{T<:Real}(x::T, y::T) = ifelse(y < x, x, y)\n",
      "min{T<:Real}(x::T, y::T) = ifelse(y < x, y, x)\n",
      "minmax{T<:Real}(x::T, y::T) = y < x ? (y, x) : (x, y)\n",
      "\n",
      "checked_add{T<:Integer}(x::T, y::T) = no_op_err(\"checked_add\", T)\n",
      "checked_sub{T<:Integer}(x::T, y::T) = no_op_err(\"checked_sub\", T)\n",
      "checked_mul{T<:Integer}(x::T, y::T) = no_op_err(\"checked_mul\", T)\n"
     ]
    }
   ],
   "source": [
    "@less(max(1,2))"
   ]
  },
  {
   "cell_type": "code",
   "execution_count": 3,
   "metadata": {
    "collapsed": false
   },
   "outputs": [
    {
     "name": "stdout",
     "output_type": "stream",
     "text": [
      "                          Base  24202 KB     Module : Base\n",
      "                        Compat     58 KB     Module : Compat\n",
      "                          Core   3240 KB     Module : Core\n",
      "                        IJulia    267 KB     Module : IJulia\n",
      "                IPythonDisplay     27 KB     Module : IPythonDisplay\n",
      "                          JSON    184 KB     Module : JSON\n",
      "                          Main  27506 KB     Module : Main\n",
      "                        Nettle     40 KB     Module : Nettle\n",
      "                           ZMQ     80 KB     Module : ZMQ\n"
     ]
    }
   ],
   "source": [
    "whos()"
   ]
  },
  {
   "cell_type": "code",
   "execution_count": 8,
   "metadata": {
    "collapsed": false
   },
   "outputs": [
    {
     "data": {
      "text/plain": [
       "es (generic function with 2 methods)"
      ]
     },
     "execution_count": 8,
     "metadata": {},
     "output_type": "execute_result"
    }
   ],
   "source": [
    "function es(n::Int64)\n",
    "    isprime = ones(Bool, n)\n",
    "    isprime[1] = false\n",
    "    for i in 2:round(Int64,sqrt(n))\n",
    "        if isprime[i]\n",
    "            for j in (i*i):i:n\n",
    "                isprime[j] = false\n",
    "            end\n",
    "        end\n",
    "    end\n",
    "    return filter(x -> isprime[x], 1:n)\n",
    "end"
   ]
  },
  {
   "cell_type": "code",
   "execution_count": 9,
   "metadata": {
    "collapsed": false
   },
   "outputs": [
    {
     "name": "stdout",
     "output_type": "stream",
     "text": [
      "[2,3,5,7,11,13,17,19,23,29,31,37,41,43,47,53,59,61,67,71,73,79,83,89,97]\n"
     ]
    }
   ],
   "source": [
    "println(es(100))"
   ]
  },
  {
   "cell_type": "code",
   "execution_count": 10,
   "metadata": {
    "collapsed": false
   },
   "outputs": [
    {
     "name": "stdout",
     "output_type": "stream",
     "text": [
      "  "
     ]
    },
    {
     "data": {
      "text/plain": [
       "664579-element Array{Int64,1}:\n",
       "       2\n",
       "       3\n",
       "       5\n",
       "       7\n",
       "      11\n",
       "      13\n",
       "      17\n",
       "      19\n",
       "      23\n",
       "      29\n",
       "      31\n",
       "      37\n",
       "      41\n",
       "       ⋮\n",
       " 9999877\n",
       " 9999883\n",
       " 9999889\n",
       " 9999901\n",
       " 9999907\n",
       " 9999929\n",
       " 9999931\n",
       " 9999937\n",
       " 9999943\n",
       " 9999971\n",
       " 9999973\n",
       " 9999991"
      ]
     },
     "execution_count": 10,
     "metadata": {},
     "output_type": "execute_result"
    },
    {
     "name": "stdout",
     "output_type": "stream",
     "text": [
      "0.526601 seconds (10.00 M allocations: 176.734 MB, 4.77% gc time)\n"
     ]
    }
   ],
   "source": [
    "@time es(10^7)"
   ]
  },
  {
   "cell_type": "code",
   "execution_count": 11,
   "metadata": {
    "collapsed": false
   },
   "outputs": [
    {
     "data": {
      "text/plain": [
       "1"
      ]
     },
     "execution_count": 11,
     "metadata": {},
     "output_type": "execute_result"
    }
   ],
   "source": [
    "1::Int64"
   ]
  },
  {
   "cell_type": "code",
   "execution_count": 12,
   "metadata": {
    "collapsed": false
   },
   "outputs": [
    {
     "ename": "LoadError",
     "evalue": "LoadError: TypeError: typeassert: expected Integer, got Char\nwhile loading In[12], in expression starting on line 1",
     "output_type": "error",
     "traceback": [
      "LoadError: TypeError: typeassert: expected Integer, got Char\nwhile loading In[12], in expression starting on line 1",
      ""
     ]
    }
   ],
   "source": [
    "'c'::Integer"
   ]
  },
  {
   "cell_type": "code",
   "execution_count": 14,
   "metadata": {
    "collapsed": false
   },
   "outputs": [
    {
     "data": {
      "text/plain": [
       "\"s\""
      ]
     },
     "execution_count": 14,
     "metadata": {},
     "output_type": "execute_result"
    }
   ],
   "source": [
    "\"s\"::AbstractString"
   ]
  },
  {
   "cell_type": "code",
   "execution_count": 16,
   "metadata": {
    "collapsed": false
   },
   "outputs": [
    {
     "data": {
      "text/plain": [
       "1073741824"
      ]
     },
     "execution_count": 16,
     "metadata": {},
     "output_type": "execute_result"
    }
   ],
   "source": [
    "round(Int32, 2.0^30)"
   ]
  },
  {
   "cell_type": "code",
   "execution_count": 18,
   "metadata": {
    "collapsed": false
   },
   "outputs": [
    {
     "data": {
      "text/plain": [
       "2147483648"
      ]
     },
     "execution_count": 18,
     "metadata": {},
     "output_type": "execute_result"
    }
   ],
   "source": [
    "round(Int64, 2.0^31)"
   ]
  },
  {
   "cell_type": "code",
   "execution_count": 19,
   "metadata": {
    "collapsed": false
   },
   "outputs": [
    {
     "data": {
      "text/plain": [
       "ASCIIString"
      ]
     },
     "execution_count": 19,
     "metadata": {},
     "output_type": "execute_result"
    }
   ],
   "source": [
    "typeof(\"abc\")"
   ]
  },
  {
   "cell_type": "code",
   "execution_count": 20,
   "metadata": {
    "collapsed": false
   },
   "outputs": [
    {
     "data": {
      "text/plain": [
       "10000000000000000000000000000000000000000000000000000000000000000000000000000000000000000000000000000000000000000000000000000000000000000000000000000000000000000000000000000000000000000000000000000000000000000000000000000000000000000000000000000000000000000000000000000000000000000000000000000000000000000000000000000000000000000000000000000000000000000000000000000000000000000000000000000000000000000000000000000000000000000000000000000000000000000000000000000000000000000000000000000000000000000000000000000000000000000000000000000000000000000000000000000000000000000000000000000000000000000000000000000000000000000000000000000000000000000000000000000000000000000000000000000000000000000000000000000000000000000000000000000000000000000000000000000000000000000000000000000000000000000000000000000000000000000000000000000000000000000000000000000000000000000000000000000000000000000000000000000000000000000000000000000000000000000000000000000000000000000000000000000000000000000000000000000000000000000"
      ]
     },
     "execution_count": 20,
     "metadata": {},
     "output_type": "execute_result"
    }
   ],
   "source": [
    "BigInt(10)^1000"
   ]
  },
  {
   "cell_type": "code",
   "execution_count": 21,
   "metadata": {
    "collapsed": false
   },
   "outputs": [
    {
     "data": {
      "text/plain": [
       "1//2"
      ]
     },
     "execution_count": 21,
     "metadata": {},
     "output_type": "execute_result"
    }
   ],
   "source": [
    "1//2"
   ]
  },
  {
   "cell_type": "code",
   "execution_count": 22,
   "metadata": {
    "collapsed": false
   },
   "outputs": [
    {
     "data": {
      "text/plain": [
       "Rational{Int64}"
      ]
     },
     "execution_count": 22,
     "metadata": {},
     "output_type": "execute_result"
    }
   ],
   "source": [
    "typeof(1//2)"
   ]
  },
  {
   "cell_type": "code",
   "execution_count": 24,
   "metadata": {
    "collapsed": false
   },
   "outputs": [
    {
     "data": {
      "text/plain": [
       "Void"
      ]
     },
     "execution_count": 24,
     "metadata": {},
     "output_type": "execute_result"
    }
   ],
   "source": [
    "Void"
   ]
  },
  {
   "cell_type": "code",
   "execution_count": 26,
   "metadata": {
    "collapsed": false
   },
   "outputs": [
    {
     "data": {
      "text/plain": [
       "DataType"
      ]
     },
     "execution_count": 26,
     "metadata": {},
     "output_type": "execute_result"
    }
   ],
   "source": [
    "typeof(Void)"
   ]
  },
  {
   "cell_type": "code",
   "execution_count": 27,
   "metadata": {
    "collapsed": false
   },
   "outputs": [
    {
     "data": {
      "text/plain": [
       "Void"
      ]
     },
     "execution_count": 27,
     "metadata": {},
     "output_type": "execute_result"
    }
   ],
   "source": [
    "typeof(nothing)"
   ]
  },
  {
   "cell_type": "code",
   "execution_count": 28,
   "metadata": {
    "collapsed": true
   },
   "outputs": [],
   "source": [
    "#undef"
   ]
  },
  {
   "cell_type": "code",
   "execution_count": 29,
   "metadata": {
    "collapsed": false
   },
   "outputs": [
    {
     "ename": "LoadError",
     "evalue": "LoadError: syntax: incomplete: premature end of input\nwhile loading In[29], in expression starting on line 1",
     "output_type": "error",
     "traceback": [
      "LoadError: syntax: incomplete: premature end of input\nwhile loading In[29], in expression starting on line 1",
      ""
     ]
    }
   ],
   "source": [
    "typeof(#undef)"
   ]
  },
  {
   "cell_type": "code",
   "execution_count": 30,
   "metadata": {
    "collapsed": false
   },
   "outputs": [
    {
     "data": {
      "text/plain": [
       "(1,2,3)"
      ]
     },
     "execution_count": 30,
     "metadata": {},
     "output_type": "execute_result"
    }
   ],
   "source": [
    "x = (1,2,3)"
   ]
  },
  {
   "cell_type": "code",
   "execution_count": 31,
   "metadata": {
    "collapsed": false
   },
   "outputs": [
    {
     "ename": "LoadError",
     "evalue": "LoadError: MethodError: `setindex!` has no method matching setindex!(::Tuple{Int64,Int64,Int64}, ::Int64, ::Int64)\nwhile loading In[31], in expression starting on line 1",
     "output_type": "error",
     "traceback": [
      "LoadError: MethodError: `setindex!` has no method matching setindex!(::Tuple{Int64,Int64,Int64}, ::Int64, ::Int64)\nwhile loading In[31], in expression starting on line 1",
      ""
     ]
    }
   ],
   "source": [
    "x[1]=2"
   ]
  },
  {
   "cell_type": "code",
   "execution_count": 32,
   "metadata": {
    "collapsed": false
   },
   "outputs": [
    {
     "data": {
      "text/plain": [
       "(1,2,3)"
      ]
     },
     "execution_count": 32,
     "metadata": {},
     "output_type": "execute_result"
    }
   ],
   "source": [
    "a, b = x"
   ]
  },
  {
   "cell_type": "code",
   "execution_count": 33,
   "metadata": {
    "collapsed": false
   },
   "outputs": [
    {
     "data": {
      "text/plain": [
       "1"
      ]
     },
     "execution_count": 33,
     "metadata": {},
     "output_type": "execute_result"
    }
   ],
   "source": [
    "a"
   ]
  },
  {
   "cell_type": "code",
   "execution_count": 34,
   "metadata": {
    "collapsed": false
   },
   "outputs": [
    {
     "data": {
      "text/plain": [
       "2"
      ]
     },
     "execution_count": 34,
     "metadata": {},
     "output_type": "execute_result"
    }
   ],
   "source": [
    "b"
   ]
  }
 ],
 "metadata": {
  "kernelspec": {
   "display_name": "Julia 0.4.0",
   "language": "julia",
   "name": "julia-0.4"
  },
  "language_info": {
   "file_extension": ".jl",
   "mimetype": "application/julia",
   "name": "julia",
   "version": "0.4.0"
  }
 },
 "nbformat": 4,
 "nbformat_minor": 0
}

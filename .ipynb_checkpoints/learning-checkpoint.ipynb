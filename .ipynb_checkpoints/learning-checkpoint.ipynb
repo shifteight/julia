{
 "cells": [
  {
   "cell_type": "code",
   "execution_count": 1,
   "metadata": {
    "collapsed": false
   },
   "outputs": [
    {
     "data": {
      "text/plain": [
       "sieve (generic function with 1 method)"
      ]
     },
     "execution_count": 1,
     "metadata": {},
     "output_type": "execute_result"
    }
   ],
   "source": [
    "function sieve(limit)\n",
    "    primes = fill(true, limit)\n",
    "    primes[1] = false\n",
    "    for p = 2:limit\n",
    "        primes[p] || continue\n",
    "        for i = 2:div(limit, p)\n",
    "            primes[p*i] = false\n",
    "        end\n",
    "    end\n",
    "    find(primes)\n",
    "end"
   ]
  },
  {
   "cell_type": "code",
   "execution_count": 2,
   "metadata": {
    "collapsed": false
   },
   "outputs": [
    {
     "data": {
      "text/plain": [
       "4-element Array{Int64,1}:\n",
       " 2\n",
       " 3\n",
       " 5\n",
       " 7"
      ]
     },
     "execution_count": 2,
     "metadata": {},
     "output_type": "execute_result"
    }
   ],
   "source": [
    "sieve(10)"
   ]
  },
  {
   "cell_type": "code",
   "execution_count": 6,
   "metadata": {
    "collapsed": false
   },
   "outputs": [
    {
     "data": {
      "text/plain": [
       "calculate_salary (generic function with 2 methods)"
      ]
     },
     "execution_count": 6,
     "metadata": {},
     "output_type": "execute_result"
    }
   ],
   "source": [
    "abstract PersonnelFileEntry\n",
    "\n",
    "type CTier <: PersonnelFileEntry\n",
    "    name::AbstractString\n",
    "    base_salary::Int\n",
    "    bonus_pct::Float32\n",
    "end\n",
    "\n",
    "type Manager <: PersonnelFileEntry\n",
    "    name::AbstractString\n",
    "    base_salary::Int\n",
    "    reports::Int\n",
    "end\n",
    "\n",
    "function calculate_salary(employee::CTier)\n",
    "    return(employee.base_salary + employee.base_salary * (employee.bonus_pct/100))\n",
    "end\n",
    "\n",
    "function calculate_salary(employee::Manager)\n",
    "    return(employee.base_salary)\n",
    "end\n"
   ]
  },
  {
   "cell_type": "code",
   "execution_count": 7,
   "metadata": {
    "collapsed": false
   },
   "outputs": [
    {
     "data": {
      "text/plain": [
       "Manager(\"Bob\",105000,3)"
      ]
     },
     "execution_count": 7,
     "metadata": {},
     "output_type": "execute_result"
    }
   ],
   "source": [
    "Joe = CTier(\"Joe\", 250000, 25)\n",
    "Bob = Manager(\"Bob\", 105000, 3)"
   ]
  },
  {
   "cell_type": "code",
   "execution_count": 8,
   "metadata": {
    "collapsed": false
   },
   "outputs": [
    {
     "data": {
      "text/plain": [
       "312500.0f0"
      ]
     },
     "execution_count": 8,
     "metadata": {},
     "output_type": "execute_result"
    }
   ],
   "source": [
    "calculate_salary(Joe)"
   ]
  },
  {
   "cell_type": "code",
   "execution_count": 9,
   "metadata": {
    "collapsed": false
   },
   "outputs": [
    {
     "data": {
      "text/plain": [
       "105000"
      ]
     },
     "execution_count": 9,
     "metadata": {},
     "output_type": "execute_result"
    }
   ],
   "source": [
    "calculate_salary(Bob)"
   ]
  },
  {
   "cell_type": "code",
   "execution_count": 10,
   "metadata": {
    "collapsed": false
   },
   "outputs": [
    {
     "name": "stdout",
     "output_type": "stream",
     "text": [
      "README.md\n",
      "byexample.ipynb\n",
      "express.ipynb\n",
      "getting_started\n",
      "hardway\n",
      "julia_types\n",
      "learn-julia-zh.jl\n",
      "learning.ipynb\n",
      "mastering\n",
      "mastering.ipynb\n",
      "outfile.dat\n",
      "plotting.ipynb\n",
      "quant-econ\n",
      "simple.dat\n"
     ]
    }
   ],
   "source": [
    ";ls"
   ]
  },
  {
   "cell_type": "code",
   "execution_count": null,
   "metadata": {
    "collapsed": true
   },
   "outputs": [],
   "source": []
  }
 ],
 "metadata": {
  "kernelspec": {
   "display_name": "Julia 0.4.1",
   "language": "julia",
   "name": "julia-0.4"
  },
  "language_info": {
   "file_extension": ".jl",
   "mimetype": "application/julia",
   "name": "julia",
   "version": "0.4.1"
  }
 },
 "nbformat": 4,
 "nbformat_minor": 0
}

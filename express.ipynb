{
 "cells": [
  {
   "cell_type": "code",
   "execution_count": 1,
   "metadata": {
    "collapsed": false
   },
   "outputs": [
    {
     "name": "stdout",
     "output_type": "stream",
     "text": [
      "Julia Version 0.3.9\n",
      "Commit 31efe69 (2015-05-30 11:24 UTC)\n",
      "Platform Info:\n",
      "  System: Linux (i686-pc-linux-gnu)\n",
      "  CPU: Intel(R) Pentium(R) M processor 1000MHz\n",
      "  WORD_SIZE: 32\n",
      "  BLAS: libopenblas (DYNAMIC_ARCH NO_AFFINITY Banias)\n",
      "  LAPACK: libopenblas\n",
      "  LIBM: libopenlibm\n",
      "  LLVM: libLLVM-3.3\n"
     ]
    }
   ],
   "source": [
    "versioninfo()"
   ]
  },
  {
   "cell_type": "code",
   "execution_count": 2,
   "metadata": {
    "collapsed": false
   },
   "outputs": [
    {
     "name": "stdout",
     "output_type": "stream",
     "text": [
      "## type join (closest common ancestor, or least upper bound) ##\n",
      "\n",
      "typejoin() = None\n",
      "typejoin(t::ANY) = t\n",
      "typejoin(t::ANY, ts...) = typejoin(t, typejoin(ts...))\n",
      "function typejoin(a::ANY, b::ANY)\n",
      "    if isa(a,TypeConstructor); a = a.body; end\n",
      "    if isa(b,TypeConstructor); b = b.body; end\n",
      "    if a <: b\n",
      "        return b\n",
      "    elseif b <: a\n",
      "        return a\n",
      "    end\n",
      "    if isa(a,TypeVar)\n",
      "        return typejoin(a.ub, b)\n",
      "    end\n",
      "    if isa(b,TypeVar)\n",
      "        return typejoin(a, b.ub)\n",
      "    end\n",
      "    if isa(a,UnionType) || isa(b,UnionType)\n",
      "        u = Union(a, b)\n",
      "        if !isa(u,UnionType)\n",
      "            return u\n",
      "        end\n",
      "        return reduce(typejoin, None, u.types)\n",
      "    end\n",
      "    if isa(a,Tuple)\n",
      "        if !isa(b,Tuple)\n",
      "            return Any\n",
      "        end\n",
      "        la = length(a)::Int; lb = length(b)::Int\n",
      "        if la==0 || lb==0\n",
      "            return Tuple\n",
      "        end\n",
      "        if la < lb\n",
      "            if isvarargtype(a[la])\n",
      "                c = cell(la)\n",
      "                c[la] = Vararg{typejoin(a[la].parameters[1], tailjoin(b,la))}\n",
      "                n = la-1\n",
      "            else\n",
      "                c = cell(la+1)\n",
      "                c[la+1] = Vararg{tailjoin(b,la+1)}\n",
      "                n = la\n",
      "            end\n",
      "        elseif lb < la\n",
      "            if isvarargtype(b[lb])\n",
      "                c = cell(lb)\n",
      "                c[lb] = Vararg{typejoin(b[lb].parameters[1], tailjoin(a,lb))}\n",
      "                n = lb-1\n",
      "            else\n",
      "                c = cell(lb+1)\n",
      "                c[lb+1] = Vararg{tailjoin(a,lb+1)}\n",
      "                n = lb\n",
      "            end\n",
      "        else\n",
      "            c = cell(la)\n",
      "            n = la\n",
      "        end\n",
      "        for i=1:n\n",
      "            ai = a[i]; bi = b[i]\n",
      "            va = false\n",
      "            if isvarargtype(ai); va=true; ai = ai.parameters[1]; end\n",
      "            if isvarargtype(bi); va=true; bi = bi.parameters[1]; end\n",
      "            t = typejoin(ai,bi)\n",
      "            c[i] = va ? Vararg{t} : t\n",
      "        end\n",
      "        return tuple(c...)\n",
      "    elseif isa(b,Tuple)\n",
      "        return Any\n",
      "    end\n",
      "    while !is(b,Any)\n",
      "        if a <: b\n",
      "            return b\n",
      "        end\n",
      "        if a <: b.name.primary\n",
      "            return b.name.primary\n",
      "        end\n",
      "        b = super(b)\n",
      "    end\n",
      "    return Any\n",
      "end\n",
      "\n",
      "# reduce typejoin over tup[i:end]\n",
      "function tailjoin(tup, i)\n",
      "    t = None\n",
      "    for j = i:length(tup)\n",
      "        tj = tup[j]\n",
      "        t = typejoin(t, isvarargtype(tj)?tj.parameters[1]:tj)\n",
      "    end\n",
      "    return t\n",
      "end\n",
      "\n",
      "## promotion mechanism ##\n",
      "\n",
      "promote_type()  = None\n",
      "promote_type(T) = T\n",
      "promote_type(T, S   ) = typejoin(T, S)\n",
      "promote_type(T, S...) = promote_type(T, promote_type(S...))\n",
      "\n",
      "promote_type(::Type{None}, ::Type{None}) = None\n",
      "promote_type{T}(::Type{T}, ::Type{T}) = T\n",
      "promote_type{T}(::Type{T}, ::Type{None}) = T\n",
      "promote_type{T}(::Type{None}, ::Type{T}) = T\n",
      "\n",
      "# Try promote_rule in both orders. Typically only one is defined,\n",
      "# and there is a fallback returning None below, so the common case is\n",
      "#   promote_type(T, S) =>\n",
      "#   promote_result(T, S, result, None) =>\n",
      "#   typejoin(result, None) => result\n",
      "promote_type{T,S}(::Type{T}, ::Type{S}) =\n",
      "    promote_result(T, S, promote_rule(T,S), promote_rule(S,T))\n",
      "\n",
      "promote_rule(T, S) = None\n",
      "\n",
      "promote_result(t,s,T,S) = promote_type(T,S)\n",
      "# If no promote_rule is defined, both directions give None. In that\n",
      "# case use typejoin on the original types instead.\n",
      "promote_result{T,S}(::Type{T},::Type{S},::Type{None},::Type{None}) = typejoin(T, S)\n",
      "\n",
      "promote() = ()\n",
      "promote(x) = (x,)\n",
      "function promote{T,S}(x::T, y::S)\n",
      "    (convert(promote_type(T,S),x), convert(promote_type(T,S),y))\n",
      "end\n",
      "promote_typeof(x) = typeof(x)\n",
      "promote_typeof(x, xs...) = promote_type(typeof(x), promote_typeof(xs...))\n",
      "function promote(x, y, z)\n",
      "    (convert(promote_typeof(x,y,z), x),\n",
      "     convert(promote_typeof(x,y,z), y),\n",
      "     convert(promote_typeof(x,y,z), z))\n",
      "end\n",
      "function promote(x, y, zs...)\n",
      "    tuple(convert(promote_typeof(x,y,zs...), x),\n",
      "          convert(promote_typeof(x,y,zs...), y),\n",
      "          convert((promote_typeof(x,y,zs...)...), zs)...)\n",
      "end\n",
      "# TODO: promote{T}(x::T, ys::T...) here to catch all circularities?\n",
      "\n",
      "## promotions in arithmetic, etc. ##\n",
      "\n",
      "# Because of the promoting fallback definitions for Number, we need\n",
      "# a special case for undefined promote_rule on numeric types.\n",
      "# Otherwise, typejoin(T,S) is called (returning Number) so no conversion\n",
      "# happens, and +(promote(x,y)...) is called again, causing a stack\n",
      "# overflow.\n",
      "promote_result{T<:Number,S<:Number}(::Type{T},::Type{S},::Type{None},::Type{None}) =\n",
      "    promote_to_super(T, S, typejoin(T,S))\n",
      "\n",
      "# promote numeric types T and S to typejoin(T,S) if T<:S or S<:T\n",
      "# for example this makes promote_type(Integer,Real) == Real without\n",
      "# promoting arbitrary pairs of numeric types to Number.\n",
      "promote_to_super{T<:Number          }(::Type{T}, ::Type{T}, ::Type{T}) = T\n",
      "promote_to_super{T<:Number,S<:Number}(::Type{T}, ::Type{S}, ::Type{T}) = T\n",
      "promote_to_super{T<:Number,S<:Number}(::Type{T}, ::Type{S}, ::Type{S}) = S\n",
      "promote_to_super{T<:Number,S<:Number}(::Type{T}, ::Type{S}, ::Type) =\n",
      "    error(\"no promotion exists for \", T, \" and \", S)\n",
      "\n",
      "+(x::Number, y::Number) = +(promote(x,y)...)\n",
      "*(x::Number, y::Number) = *(promote(x,y)...)\n",
      "-(x::Number, y::Number) = -(promote(x,y)...)\n",
      "/(x::Number, y::Number) = /(promote(x,y)...)\n",
      "^(x::Number, y::Number) = ^(promote(x,y)...)\n",
      "\n",
      "(&)(x::Integer, y::Integer) = (&)(promote(x,y)...)\n",
      "(|)(x::Integer, y::Integer) = (|)(promote(x,y)...)\n",
      "($)(x::Integer, y::Integer) = ($)(promote(x,y)...)\n",
      "\n",
      "==(x::Number, y::Number) = (==)(promote(x,y)...)\n",
      "< (x::Real, y::Real)     = (< )(promote(x,y)...)\n",
      "<=(x::Real, y::Real)     = (<=)(promote(x,y)...)\n",
      "\n",
      "div(x::Real, y::Real) = div(promote(x,y)...)\n",
      "fld(x::Real, y::Real) = fld(promote(x,y)...)\n",
      "rem(x::Real, y::Real) = rem(promote(x,y)...)\n",
      "mod(x::Real, y::Real) = mod(promote(x,y)...)\n",
      "\n",
      "mod1(x::Real, y::Real) = mod1(promote(x,y)...)\n",
      "rem1(x::Real, y::Real) = rem1(promote(x,y)...)\n",
      "fld1(x::Real, y::Real) = fld1(promote(x,y)...)\n",
      "\n",
      "max(x::Real, y::Real) = max(promote(x,y)...)\n",
      "min(x::Real, y::Real) = min(promote(x,y)...)\n",
      "minmax(x::Real, y::Real) = minmax(promote(x, y)...)\n",
      "\n",
      "## catch-alls to prevent infinite recursion when definitions are missing ##\n",
      "\n",
      "no_op_err(name, T) = error(name,\" not defined for \",T)\n",
      "+{T<:Number}(x::T, y::T) = no_op_err(\"+\", T)\n",
      "*{T<:Number}(x::T, y::T) = no_op_err(\"*\", T)\n",
      "-{T<:Number}(x::T, y::T) = no_op_err(\"-\", T)\n",
      "/{T<:Number}(x::T, y::T) = no_op_err(\"/\", T)\n",
      "^{T<:Number}(x::T, y::T) = no_op_err(\"^\", T)\n",
      "\n",
      "(&){T<:Integer}(x::T, y::T) = no_op_err(\"&\", T)\n",
      "(|){T<:Integer}(x::T, y::T) = no_op_err(\"|\", T)\n",
      "($){T<:Integer}(x::T, y::T) = no_op_err(\"\\$\", T)\n",
      "\n",
      "=={T<:Number}(x::T, y::T) = x === y\n",
      "<{T<:Real}(x::T, y::T) = no_op_err(\"<\", T)\n",
      "\n",
      "max{T<:Real}(x::T, y::T) = ifelse(y < x, x, y)\n",
      "min{T<:Real}(x::T, y::T) = ifelse(x < y, x, y)\n",
      "minmax{T<:Real}(x::T, y::T) = x < y ? (x, y) : (y, x)\n"
     ]
    }
   ],
   "source": [
    "@less(max(1,2))"
   ]
  },
  {
   "cell_type": "code",
   "execution_count": 3,
   "metadata": {
    "collapsed": false
   },
   "outputs": [
    {
     "name": "stdout",
     "output_type": "stream",
     "text": [
      "Base                          Module\n",
      "Compat                        Module\n",
      "Core                          Module\n",
      "DataStructures                Module\n",
      "Docile                        Module\n",
      "IJulia                        Module\n",
      "IPythonDisplay                Module\n",
      "JSON                          Module\n",
      "Main                          Module\n",
      "Nettle                        Module\n",
      "ZMQ                           Module\n"
     ]
    }
   ],
   "source": [
    "whos()"
   ]
  },
  {
   "cell_type": "code",
   "execution_count": 4,
   "metadata": {
    "collapsed": false
   },
   "outputs": [
    {
     "data": {
      "text/plain": [
       "es (generic function with 1 method)"
      ]
     },
     "execution_count": 4,
     "metadata": {},
     "output_type": "execute_result"
    }
   ],
   "source": [
    "function es(n::Int32)\n",
    "    isprime = ones(Bool, n)\n",
    "    isprime[1] = false\n",
    "    for i in 2:int32(sqrt(n))\n",
    "        if isprime[i]\n",
    "            for j in (i*i):i:n\n",
    "                isprime[j] = false\n",
    "            end\n",
    "        end\n",
    "    end\n",
    "    return filter(x -> isprime[x], 1:n)\n",
    "end"
   ]
  },
  {
   "cell_type": "code",
   "execution_count": 5,
   "metadata": {
    "collapsed": false
   },
   "outputs": [
    {
     "name": "stdout",
     "output_type": "stream",
     "text": [
      "[2,3,5,7,11,13,17,19,23,29,31,37,41,43,47,53,59,61,67,71,73,79,83,89,97]\n"
     ]
    }
   ],
   "source": [
    "println(es(100))"
   ]
  },
  {
   "cell_type": "code",
   "execution_count": 6,
   "metadata": {
    "collapsed": false
   },
   "outputs": [
    {
     "name": "stdout",
     "output_type": "stream",
     "text": [
      "elapsed time: 5.744907524 seconds (105406332 bytes allocated, 4.25% gc time)\n"
     ]
    },
    {
     "data": {
      "text/plain": [
       "664579-element Array{Int32,1}:\n",
       "       2\n",
       "       3\n",
       "       5\n",
       "       7\n",
       "      11\n",
       "      13\n",
       "      17\n",
       "      19\n",
       "      23\n",
       "      29\n",
       "      31\n",
       "      37\n",
       "      41\n",
       "       ⋮\n",
       " 9999877\n",
       " 9999883\n",
       " 9999889\n",
       " 9999901\n",
       " 9999907\n",
       " 9999929\n",
       " 9999931\n",
       " 9999937\n",
       " 9999943\n",
       " 9999971\n",
       " 9999973\n",
       " 9999991"
      ]
     },
     "execution_count": 6,
     "metadata": {},
     "output_type": "execute_result"
    }
   ],
   "source": [
    "@time es(10^7)"
   ]
  },
  {
   "cell_type": "code",
   "execution_count": 7,
   "metadata": {
    "collapsed": false
   },
   "outputs": [
    {
     "ename": "LoadError",
     "evalue": "type: typeassert: expected Int64, got Int32\nwhile loading In[7], in expression starting on line 1",
     "output_type": "error",
     "traceback": [
      "type: typeassert: expected Int64, got Int32\nwhile loading In[7], in expression starting on line 1",
      ""
     ]
    }
   ],
   "source": [
    "1::Int64"
   ]
  },
  {
   "cell_type": "code",
   "execution_count": 9,
   "metadata": {
    "collapsed": false
   },
   "outputs": [
    {
     "data": {
      "text/plain": [
       "'c'"
      ]
     },
     "execution_count": 9,
     "metadata": {},
     "output_type": "execute_result"
    }
   ],
   "source": [
    "'c'::Integer"
   ]
  },
  {
   "cell_type": "code",
   "execution_count": 10,
   "metadata": {
    "collapsed": false
   },
   "outputs": [
    {
     "data": {
      "text/plain": [
       "\"s\""
      ]
     },
     "execution_count": 10,
     "metadata": {},
     "output_type": "execute_result"
    }
   ],
   "source": [
    "\"s\"::String"
   ]
  },
  {
   "cell_type": "code",
   "execution_count": 11,
   "metadata": {
    "collapsed": false
   },
   "outputs": [
    {
     "data": {
      "text/plain": [
       "1073741824"
      ]
     },
     "execution_count": 11,
     "metadata": {},
     "output_type": "execute_result"
    }
   ],
   "source": [
    "int32(2.0^30)"
   ]
  },
  {
   "cell_type": "code",
   "execution_count": 12,
   "metadata": {
    "collapsed": false
   },
   "outputs": [
    {
     "ename": "LoadError",
     "evalue": "InexactError()\nwhile loading In[12], in expression starting on line 1",
     "output_type": "error",
     "traceback": [
      "InexactError()\nwhile loading In[12], in expression starting on line 1",
      "",
      " in int32 at int.jl:511"
     ]
    }
   ],
   "source": [
    "int32(2.0^32)"
   ]
  },
  {
   "cell_type": "code",
   "execution_count": 13,
   "metadata": {
    "collapsed": false
   },
   "outputs": [
    {
     "ename": "LoadError",
     "evalue": "InexactError()\nwhile loading In[13], in expression starting on line 1",
     "output_type": "error",
     "traceback": [
      "InexactError()\nwhile loading In[13], in expression starting on line 1",
      "",
      " in int32 at int.jl:511"
     ]
    }
   ],
   "source": [
    "int32(2.0^31)"
   ]
  },
  {
   "cell_type": "code",
   "execution_count": 14,
   "metadata": {
    "collapsed": false
   },
   "outputs": [
    {
     "data": {
      "text/plain": [
       "ASCIIString (constructor with 2 methods)"
      ]
     },
     "execution_count": 14,
     "metadata": {},
     "output_type": "execute_result"
    }
   ],
   "source": [
    "typeof(\"abc\")"
   ]
  },
  {
   "cell_type": "code",
   "execution_count": 16,
   "metadata": {
    "collapsed": false
   },
   "outputs": [
    {
     "data": {
      "text/plain": [
       "10000000000000000000000000000000000000000000000000000000000000000000000000000000000000000000000000000000000000000000000000000000000000000000000000000000000000000000000000000000000000000000000000000000000000000000000000000000000000000000000000000000000000000000000000000000000000000000000000000000000000000000000000000000000000000000000000000000000000000000000000000000000000000000000000000000000000000000000000000000000000000000000000000000000000000000000000000000000000000000000000000000000000000000000000000000000000000000000000000000000000000000000000000000000000000000000000000000000000000000000000000000000000000000000000000000000000000000000000000000000000000000000000000000000000000000000000000000000000000000000000000000000000000000000000000000000000000000000000000000000000000000000000000000000000000000000000000000000000000000000000000000000000000000000000000000000000000000000000000000000000000000000000000000000000000000000000000000000000000000000000000000000000000000000000000000000000000"
      ]
     },
     "execution_count": 16,
     "metadata": {},
     "output_type": "execute_result"
    }
   ],
   "source": [
    "BigInt(10)^1000"
   ]
  },
  {
   "cell_type": "code",
   "execution_count": 17,
   "metadata": {
    "collapsed": false
   },
   "outputs": [
    {
     "data": {
      "text/plain": [
       "1//2"
      ]
     },
     "execution_count": 17,
     "metadata": {},
     "output_type": "execute_result"
    }
   ],
   "source": [
    "1//2"
   ]
  },
  {
   "cell_type": "code",
   "execution_count": 18,
   "metadata": {
    "collapsed": false
   },
   "outputs": [
    {
     "data": {
      "text/plain": [
       "Rational{Int32} (constructor with 1 method)"
      ]
     },
     "execution_count": 18,
     "metadata": {},
     "output_type": "execute_result"
    }
   ],
   "source": [
    "typeof(1//2)"
   ]
  },
  {
   "cell_type": "code",
   "execution_count": 19,
   "metadata": {
    "collapsed": false
   },
   "outputs": [
    {
     "data": {
      "text/plain": [
       "Nothing (constructor with 1 method)"
      ]
     },
     "execution_count": 19,
     "metadata": {},
     "output_type": "execute_result"
    }
   ],
   "source": [
    "Nothing"
   ]
  },
  {
   "cell_type": "code",
   "execution_count": 20,
   "metadata": {
    "collapsed": false
   },
   "outputs": [
    {
     "data": {
      "text/plain": [
       "DataType"
      ]
     },
     "execution_count": 20,
     "metadata": {},
     "output_type": "execute_result"
    }
   ],
   "source": [
    "typeof(Nothing)"
   ]
  },
  {
   "cell_type": "code",
   "execution_count": 21,
   "metadata": {
    "collapsed": false
   },
   "outputs": [
    {
     "data": {
      "text/plain": [
       "Nothing (constructor with 1 method)"
      ]
     },
     "execution_count": 21,
     "metadata": {},
     "output_type": "execute_result"
    }
   ],
   "source": [
    "typeof(nothing)"
   ]
  },
  {
   "cell_type": "code",
   "execution_count": 22,
   "metadata": {
    "collapsed": true
   },
   "outputs": [],
   "source": [
    "#undef"
   ]
  },
  {
   "cell_type": "code",
   "execution_count": 23,
   "metadata": {
    "collapsed": false
   },
   "outputs": [
    {
     "ename": "LoadError",
     "evalue": "syntax: incomplete: premature end of input\nwhile loading In[23], in expression starting on line 1",
     "output_type": "error",
     "traceback": [
      "syntax: incomplete: premature end of input\nwhile loading In[23], in expression starting on line 1",
      ""
     ]
    }
   ],
   "source": [
    "typeof(#undef)"
   ]
  },
  {
   "cell_type": "code",
   "execution_count": 24,
   "metadata": {
    "collapsed": false
   },
   "outputs": [
    {
     "data": {
      "text/plain": [
       "(1,2,3)"
      ]
     },
     "execution_count": 24,
     "metadata": {},
     "output_type": "execute_result"
    }
   ],
   "source": [
    "x = (1,2,3)"
   ]
  },
  {
   "cell_type": "code",
   "execution_count": 25,
   "metadata": {
    "collapsed": false
   },
   "outputs": [
    {
     "ename": "LoadError",
     "evalue": "`setindex!` has no method matching setindex!(::(Int32,Int32,Int32), ::Int32, ::Int32)\nwhile loading In[25], in expression starting on line 1",
     "output_type": "error",
     "traceback": [
      "`setindex!` has no method matching setindex!(::(Int32,Int32,Int32), ::Int32, ::Int32)\nwhile loading In[25], in expression starting on line 1",
      ""
     ]
    }
   ],
   "source": [
    "x[1]=2"
   ]
  },
  {
   "cell_type": "code",
   "execution_count": 26,
   "metadata": {
    "collapsed": false
   },
   "outputs": [
    {
     "data": {
      "text/plain": [
       "(1,2,3)"
      ]
     },
     "execution_count": 26,
     "metadata": {},
     "output_type": "execute_result"
    }
   ],
   "source": [
    "a, b = x"
   ]
  },
  {
   "cell_type": "code",
   "execution_count": 27,
   "metadata": {
    "collapsed": false
   },
   "outputs": [
    {
     "data": {
      "text/plain": [
       "1"
      ]
     },
     "execution_count": 27,
     "metadata": {},
     "output_type": "execute_result"
    }
   ],
   "source": [
    "a"
   ]
  },
  {
   "cell_type": "code",
   "execution_count": 28,
   "metadata": {
    "collapsed": false
   },
   "outputs": [
    {
     "data": {
      "text/plain": [
       "2"
      ]
     },
     "execution_count": 28,
     "metadata": {},
     "output_type": "execute_result"
    }
   ],
   "source": [
    "b"
   ]
  },
  {
   "cell_type": "code",
   "execution_count": null,
   "metadata": {
    "collapsed": true
   },
   "outputs": [],
   "source": []
  }
 ],
 "metadata": {
  "kernelspec": {
   "display_name": "Julia 0.3.9",
   "language": "julia",
   "name": "julia-0.3"
  },
  "language_info": {
   "name": "julia",
   "version": "0.3.9"
  }
 },
 "nbformat": 4,
 "nbformat_minor": 0
}

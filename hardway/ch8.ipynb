{
 "cells": [
  {
   "cell_type": "code",
   "execution_count": 1,
   "metadata": {
    "collapsed": false
   },
   "outputs": [
    {
     "data": {
      "text/plain": [
       "fussy_sqrt (generic function with 1 method)"
      ]
     },
     "execution_count": 1,
     "metadata": {},
     "output_type": "execute_result"
    }
   ],
   "source": [
    "# throwing a generic ErrorException\n",
    "fussy_sqrt(x) = x >= 0 ? sqrt(x) : error(\"negative x not allowed\")"
   ]
  },
  {
   "cell_type": "code",
   "execution_count": 2,
   "metadata": {
    "collapsed": false
   },
   "outputs": [
    {
     "data": {
      "text/plain": [
       "verbose_fussy_sqrt (generic function with 1 method)"
      ]
     },
     "execution_count": 2,
     "metadata": {},
     "output_type": "execute_result"
    }
   ],
   "source": [
    "function verbose_fussy_sqrt(x)\n",
    "    println(\"before fussy_sqrt\")\n",
    "    r = fussy_sqrt(x)\n",
    "    println(\"after fussy_sqrt\")\n",
    "    return r\n",
    "end"
   ]
  },
  {
   "cell_type": "code",
   "execution_count": 3,
   "metadata": {
    "collapsed": false
   },
   "outputs": [
    {
     "name": "stdout",
     "output_type": "stream",
     "text": [
      "before fussy_sqrt\n"
     ]
    },
    {
     "data": {
      "text/plain": [
       "1.4142135623730951"
      ]
     },
     "execution_count": 3,
     "metadata": {},
     "output_type": "execute_result"
    },
    {
     "name": "stdout",
     "output_type": "stream",
     "text": [
      "after fussy_sqrt\n"
     ]
    }
   ],
   "source": [
    "verbose_fussy_sqrt(2)"
   ]
  },
  {
   "cell_type": "code",
   "execution_count": 4,
   "metadata": {
    "collapsed": false
   },
   "outputs": [
    {
     "name": "stdout",
     "output_type": "stream",
     "text": [
      "before fussy_sqrt\n"
     ]
    },
    {
     "ename": "LoadError",
     "evalue": "LoadError: negative x not allowed\nwhile loading In[4], in expression starting on line 1",
     "output_type": "error",
     "traceback": [
      "LoadError: negative x not allowed\nwhile loading In[4], in expression starting on line 1",
      "",
      " in verbose_fussy_sqrt at In[2]:3"
     ]
    }
   ],
   "source": [
    "verbose_fussy_sqrt(-1)"
   ]
  },
  {
   "cell_type": "code",
   "execution_count": 7,
   "metadata": {
    "collapsed": false
   },
   "outputs": [
    {
     "data": {
      "text/plain": [
       "showerror (generic function with 27 methods)"
      ]
     },
     "execution_count": 7,
     "metadata": {},
     "output_type": "execute_result"
    }
   ],
   "source": [
    "# creating my own exceptions to take arguments\n",
    "type MyExceptionTree <: Exception\n",
    "    var::AbstractString\n",
    "end\n",
    "\n",
    "Base.showerror(io::IO, e::MyExceptionTree) = print(io, \"Something is wrong with \", e.var, \"!\")"
   ]
  },
  {
   "cell_type": "code",
   "execution_count": 8,
   "metadata": {
    "collapsed": false
   },
   "outputs": [
    {
     "ename": "LoadError",
     "evalue": "LoadError: Something is wrong with this code!\nwhile loading In[8], in expression starting on line 1",
     "output_type": "error",
     "traceback": [
      "LoadError: Something is wrong with this code!\nwhile loading In[8], in expression starting on line 1",
      ""
     ]
    }
   ],
   "source": [
    "throw(MyExceptionTree(\"this code\"))"
   ]
  },
  {
   "cell_type": "code",
   "execution_count": 9,
   "metadata": {
    "collapsed": false
   },
   "outputs": [
    {
     "data": {
      "text/plain": [
       "resilient_square_root (generic function with 1 method)"
      ]
     },
     "execution_count": 9,
     "metadata": {},
     "output_type": "execute_result"
    }
   ],
   "source": [
    "# catch exceptions\n",
    "function resilient_square_root(x::Number)\n",
    "    try\n",
    "        sqrt(x)\n",
    "    catch err\n",
    "        if isa(err, DomainError)\n",
    "            sqrt(complex(x))\n",
    "        end\n",
    "    end\n",
    "end"
   ]
  },
  {
   "cell_type": "code",
   "execution_count": 10,
   "metadata": {
    "collapsed": false
   },
   "outputs": [
    {
     "data": {
      "text/plain": [
       "0.0 + 1.0im"
      ]
     },
     "execution_count": 10,
     "metadata": {},
     "output_type": "execute_result"
    }
   ],
   "source": [
    "resilient_square_root(-1)"
   ]
  },
  {
   "cell_type": "code",
   "execution_count": 13,
   "metadata": {
    "collapsed": false
   },
   "outputs": [
    {
     "data": {
      "text/plain": [
       "\"error\""
      ]
     },
     "execution_count": 13,
     "metadata": {},
     "output_type": "execute_result"
    }
   ],
   "source": [
    "try sqrt(x) catch; \"error\" end"
   ]
  },
  {
   "cell_type": "code",
   "execution_count": 14,
   "metadata": {
    "collapsed": false
   },
   "outputs": [
    {
     "ename": "LoadError",
     "evalue": "LoadError: SystemError: opening file file: No such file or directory\nwhile loading In[14], in expression starting on line 1",
     "output_type": "error",
     "traceback": [
      "LoadError: SystemError: opening file file: No such file or directory\nwhile loading In[14], in expression starting on line 1",
      "",
      " in open at /usr/local/Cellar/julia/0.4.1/lib/julia/sys.dylib",
      " in open at iostream.jl:99"
     ]
    }
   ],
   "source": [
    "f = open(\"file\")\n",
    "try\n",
    "    # operate on file f\n",
    "finally\n",
    "    close(f)\n",
    "end"
   ]
  },
  {
   "cell_type": "code",
   "execution_count": 15,
   "metadata": {
    "collapsed": false
   },
   "outputs": [
    {
     "data": {
      "text/plain": [
       "15-element Array{Ptr{Void},1}:\n",
       " Ptr{Void} @0x000000010980f2ed\n",
       " Ptr{Void} @0x000000030de7b920\n",
       " Ptr{Void} @0x000000030de7b8a0\n",
       " Ptr{Void} @0x000000010979e776\n",
       " Ptr{Void} @0x0000000109809c04\n",
       " Ptr{Void} @0x00000001098082a8\n",
       " Ptr{Void} @0x000000010981c33c\n",
       " Ptr{Void} @0x000000010981c8dd\n",
       " Ptr{Void} @0x00000001097a1d1c\n",
       " Ptr{Void} @0x000000030de5b1f7\n",
       " Ptr{Void} @0x000000030de575cb\n",
       " Ptr{Void} @0x000000030de56b37\n",
       " Ptr{Void} @0x000000030de4d661\n",
       " Ptr{Void} @0x000000030de4fbb9\n",
       " Ptr{Void} @0x000000010981008f"
      ]
     },
     "execution_count": 15,
     "metadata": {},
     "output_type": "execute_result"
    }
   ],
   "source": [
    "backtrace()"
   ]
  },
  {
   "cell_type": "code",
   "execution_count": 16,
   "metadata": {
    "collapsed": false
   },
   "outputs": [
    {
     "data": {
      "text/plain": [
       "19-element Array{Ptr{Void},1}:\n",
       " Ptr{Void} @0x000000010980eec6\n",
       " Ptr{Void} @0x000000010980fad9\n",
       " Ptr{Void} @0x000000010abea85b\n",
       " Ptr{Void} @0x000000030de7af72\n",
       " Ptr{Void} @0x000000010979e776\n",
       " Ptr{Void} @0x0000000109809c04\n",
       " Ptr{Void} @0x00000001098082a8\n",
       " Ptr{Void} @0x0000000109808137\n",
       " Ptr{Void} @0x000000010980970d\n",
       " Ptr{Void} @0x000000010980953f\n",
       " Ptr{Void} @0x000000010981c348\n",
       " Ptr{Void} @0x000000010981c8dd\n",
       " Ptr{Void} @0x00000001097a1d1c\n",
       " Ptr{Void} @0x000000030de5b1f7\n",
       " Ptr{Void} @0x000000030de575cb\n",
       " Ptr{Void} @0x000000030de56b37\n",
       " Ptr{Void} @0x000000030de4d661\n",
       " Ptr{Void} @0x000000030de4fbb9\n",
       " Ptr{Void} @0x000000010981008f"
      ]
     },
     "execution_count": 16,
     "metadata": {},
     "output_type": "execute_result"
    }
   ],
   "source": [
    "catch_backtrace()"
   ]
  },
  {
   "cell_type": "code",
   "execution_count": null,
   "metadata": {
    "collapsed": true
   },
   "outputs": [],
   "source": []
  }
 ],
 "metadata": {
  "kernelspec": {
   "display_name": "Julia 0.4.1",
   "language": "julia",
   "name": "julia-0.4"
  },
  "language_info": {
   "file_extension": ".jl",
   "mimetype": "application/julia",
   "name": "julia",
   "version": "0.4.1"
  }
 },
 "nbformat": 4,
 "nbformat_minor": 0
}

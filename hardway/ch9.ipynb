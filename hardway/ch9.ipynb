{
 "cells": [
  {
   "cell_type": "code",
   "execution_count": 1,
   "metadata": {
    "collapsed": true
   },
   "outputs": [],
   "source": [
    "# IO"
   ]
  },
  {
   "cell_type": "code",
   "execution_count": 2,
   "metadata": {
    "collapsed": false
   },
   "outputs": [
    {
     "name": "stdout",
     "output_type": "stream",
     "text": [
      "README.md\n",
      "byexample.ipynb\n",
      "express.ipynb\n",
      "getting_started\n",
      "hardway\n",
      "julia_types\n",
      "learn-julia-zh.jl\n",
      "mastering\n",
      "mastering.ipynb\n",
      "outfile.dat\n",
      "plotting.ipynb\n",
      "quant-econ\n",
      "simple.dat\n"
     ]
    }
   ],
   "source": [
    ";ls \"../\""
   ]
  },
  {
   "cell_type": "code",
   "execution_count": 3,
   "metadata": {
    "collapsed": false
   },
   "outputs": [
    {
     "name": "stdout",
     "output_type": "stream",
     "text": [
      "total 1032\n",
      "-rw-r--r--   1 Kevin  staff       8 Oct  1 10:43 README.md\n",
      "-rw-r--r--   1 Kevin  staff   62970 Jun  7 14:16 byexample.ipynb\n",
      "-rw-r--r--   1 Kevin  staff   23513 Nov 18 23:11 express.ipynb\n",
      "drwxr-xr-x   5 Kevin  staff     170 Nov 22 22:14 getting_started\n",
      "drwxr-xr-x  10 Kevin  staff     340 Dec  3 23:39 hardway\n",
      "drwxr-xr-x   6 Kevin  staff     204 Dec  2 22:12 julia_types\n",
      "-rw-r--r--   1 Kevin  staff   19540 Jun  5 00:32 learn-julia-zh.jl\n",
      "drwxr-xr-x   8 Kevin  staff     272 Nov 27 21:56 mastering\n",
      "-rw-r--r--   1 Kevin  staff    8627 Nov 22 22:41 mastering.ipynb\n",
      "-rw-r--r--   1 Kevin  staff      46 Jun  5 00:32 outfile.dat\n",
      "-rw-r--r--   1 Kevin  staff  392944 Jun  7 14:16 plotting.ipynb\n",
      "drwxr-xr-x  15 Kevin  staff     510 Jun  7 14:16 quant-econ\n",
      "-rw-r--r--   1 Kevin  staff      58 Jun  5 00:32 simple.dat\n"
     ]
    }
   ],
   "source": [
    ";ls -l \"..\""
   ]
  },
  {
   "cell_type": "code",
   "execution_count": 4,
   "metadata": {
    "collapsed": false
   },
   "outputs": [
    {
     "data": {
      "text/plain": [
       "IOStream(<file ../simple.dat>)"
      ]
     },
     "execution_count": 4,
     "metadata": {},
     "output_type": "execute_result"
    }
   ],
   "source": [
    "f = open(\"../simple.dat\")"
   ]
  },
  {
   "cell_type": "code",
   "execution_count": 5,
   "metadata": {
    "collapsed": false
   },
   "outputs": [
    {
     "data": {
      "text/plain": [
       "\"this is a simple file containing\\ntext and numbers:\\n43.3\\n17\""
      ]
     },
     "execution_count": 5,
     "metadata": {},
     "output_type": "execute_result"
    }
   ],
   "source": [
    "readall(f)"
   ]
  },
  {
   "cell_type": "code",
   "execution_count": 6,
   "metadata": {
    "collapsed": false
   },
   "outputs": [
    {
     "data": {
      "text/plain": [
       "ASCIIString"
      ]
     },
     "execution_count": 6,
     "metadata": {},
     "output_type": "execute_result"
    }
   ],
   "source": [
    "typeof(ans)"
   ]
  },
  {
   "cell_type": "code",
   "execution_count": 7,
   "metadata": {
    "collapsed": false
   },
   "outputs": [
    {
     "data": {
      "text/plain": [
       "0-element Array{ByteString,1}"
      ]
     },
     "execution_count": 7,
     "metadata": {},
     "output_type": "execute_result"
    }
   ],
   "source": [
    "readlines(f)"
   ]
  },
  {
   "cell_type": "code",
   "execution_count": 8,
   "metadata": {
    "collapsed": false
   },
   "outputs": [
    {
     "data": {
      "text/plain": [
       "IOStream(<file ../simple.dat>)"
      ]
     },
     "execution_count": 8,
     "metadata": {},
     "output_type": "execute_result"
    }
   ],
   "source": [
    "seek(f, 0)"
   ]
  },
  {
   "cell_type": "code",
   "execution_count": 9,
   "metadata": {
    "collapsed": false
   },
   "outputs": [
    {
     "data": {
      "text/plain": [
       "4-element Array{ByteString,1}:\n",
       " \"this is a simple file containing\\n\"\n",
       " \"text and numbers:\\n\"               \n",
       " \"43.3\\n\"                            \n",
       " \"17\"                                "
      ]
     },
     "execution_count": 9,
     "metadata": {},
     "output_type": "execute_result"
    }
   ],
   "source": [
    "readlines(f)"
   ]
  },
  {
   "cell_type": "code",
   "execution_count": 14,
   "metadata": {
    "collapsed": false
   },
   "outputs": [
    {
     "name": "stdout",
     "output_type": "stream",
     "text": [
      "1 \t this is a simple file containing\n",
      "\n",
      "2 \t text and numbers:\n",
      "\n",
      "3 \t 43.3\n",
      "\n",
      "4 \t 17\n"
     ]
    }
   ],
   "source": [
    "seek(f, 0)\n",
    "i = 1\n",
    "for line in eachline(f)\n",
    "    println(\"$i \\t $line\")\n",
    "    i += 1\n",
    "end"
   ]
  },
  {
   "cell_type": "code",
   "execution_count": null,
   "metadata": {
    "collapsed": true
   },
   "outputs": [],
   "source": []
  }
 ],
 "metadata": {
  "kernelspec": {
   "display_name": "Julia 0.4.1",
   "language": "julia",
   "name": "julia-0.4"
  },
  "language_info": {
   "file_extension": ".jl",
   "mimetype": "application/julia",
   "name": "julia",
   "version": "0.4.1"
  }
 },
 "nbformat": 4,
 "nbformat_minor": 0
}

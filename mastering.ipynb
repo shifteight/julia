{
 "cells": [
  {
   "cell_type": "code",
   "execution_count": 2,
   "metadata": {
    "collapsed": false
   },
   "outputs": [
    {
     "data": {
      "text/plain": [
       "10-element Array{Int64,1}:\n",
       "  1\n",
       "  2\n",
       "  3\n",
       "  4\n",
       "  5\n",
       "  6\n",
       "  7\n",
       "  8\n",
       "  9\n",
       " 10"
      ]
     },
     "execution_count": 2,
     "metadata": {},
     "output_type": "execute_result"
    }
   ],
   "source": [
    "A = collect(1:10)"
   ]
  },
  {
   "cell_type": "code",
   "execution_count": 3,
   "metadata": {
    "collapsed": false
   },
   "outputs": [
    {
     "data": {
      "text/plain": [
       "5-element Array{Int64,1}:\n",
       "  1\n",
       "  4\n",
       "  7\n",
       " 10\n",
       " 13"
      ]
     },
     "execution_count": 3,
     "metadata": {},
     "output_type": "execute_result"
    }
   ],
   "source": [
    "B = collect(1:3:15)"
   ]
  },
  {
   "cell_type": "code",
   "execution_count": 4,
   "metadata": {
    "collapsed": false
   },
   "outputs": [
    {
     "data": {
      "text/plain": [
       "9-element Array{Float64,1}:\n",
       " 1.0\n",
       " 1.5\n",
       " 2.0\n",
       " 2.5\n",
       " 3.0\n",
       " 3.5\n",
       " 4.0\n",
       " 4.5\n",
       " 5.0"
      ]
     },
     "execution_count": 4,
     "metadata": {},
     "output_type": "execute_result"
    }
   ],
   "source": [
    "C = collect(1:0.5:5)"
   ]
  },
  {
   "cell_type": "code",
   "execution_count": 7,
   "metadata": {
    "collapsed": false
   },
   "outputs": [
    {
     "data": {
      "text/plain": [
       "Array{Float64,1}"
      ]
     },
     "execution_count": 7,
     "metadata": {},
     "output_type": "execute_result"
    }
   ],
   "source": [
    "typeof(ones(15))"
   ]
  },
  {
   "cell_type": "code",
   "execution_count": 8,
   "metadata": {
    "collapsed": false
   },
   "outputs": [
    {
     "data": {
      "text/plain": [
       "Array{Float64,1}"
      ]
     },
     "execution_count": 8,
     "metadata": {},
     "output_type": "execute_result"
    }
   ],
   "source": [
    "typeof(zeros(15))"
   ]
  },
  {
   "cell_type": "code",
   "execution_count": 9,
   "metadata": {
    "collapsed": false
   },
   "outputs": [
    {
     "data": {
      "text/plain": [
       "15-element Array{Int64,1}:\n",
       " 89\n",
       " 51\n",
       "  8\n",
       " 88\n",
       " 82\n",
       " 85\n",
       " 22\n",
       " 87\n",
       " 36\n",
       " 18\n",
       " 37\n",
       " 36\n",
       " 18\n",
       " 23\n",
       " 32"
      ]
     },
     "execution_count": 9,
     "metadata": {},
     "output_type": "execute_result"
    }
   ],
   "source": [
    "rand(1:100, 15)"
   ]
  },
  {
   "cell_type": "code",
   "execution_count": 10,
   "metadata": {
    "collapsed": false
   },
   "outputs": [
    {
     "data": {
      "text/plain": [
       "2x3 Array{Int64,2}:\n",
       " 1  2  3\n",
       " 4  5  6"
      ]
     },
     "execution_count": 10,
     "metadata": {},
     "output_type": "execute_result"
    }
   ],
   "source": [
    "A = [1 2 3; 4 5 6]"
   ]
  },
  {
   "cell_type": "code",
   "execution_count": 11,
   "metadata": {
    "collapsed": false
   },
   "outputs": [
    {
     "data": {
      "text/plain": [
       "3x2 Array{Int64,2}:\n",
       " 1  5\n",
       " 4  3\n",
       " 2  6"
      ]
     },
     "execution_count": 11,
     "metadata": {},
     "output_type": "execute_result"
    }
   ],
   "source": [
    "B = reshape(A, 3, 2)"
   ]
  },
  {
   "cell_type": "code",
   "execution_count": 12,
   "metadata": {
    "collapsed": false
   },
   "outputs": [
    {
     "data": {
      "text/plain": [
       "2x3 Array{Int64,2}:\n",
       " 1  4  2\n",
       " 5  3  6"
      ]
     },
     "execution_count": 12,
     "metadata": {},
     "output_type": "execute_result"
    }
   ],
   "source": [
    "C = transpose(B)"
   ]
  },
  {
   "cell_type": "code",
   "execution_count": 13,
   "metadata": {
    "collapsed": false
   },
   "outputs": [
    {
     "data": {
      "text/plain": [
       "2x2 Array{Int64,2}:\n",
       " 15  29\n",
       " 36  71"
      ]
     },
     "execution_count": 13,
     "metadata": {},
     "output_type": "execute_result"
    }
   ],
   "source": [
    "A * B"
   ]
  },
  {
   "cell_type": "code",
   "execution_count": 14,
   "metadata": {
    "collapsed": false
   },
   "outputs": [
    {
     "data": {
      "text/plain": [
       "2x2 Array{Float64,2}:\n",
       " 0.332273  0.27663 \n",
       " 0.732909  0.710652"
      ]
     },
     "execution_count": 14,
     "metadata": {},
     "output_type": "execute_result"
    }
   ],
   "source": [
    "A / C"
   ]
  },
  {
   "cell_type": "code",
   "execution_count": 15,
   "metadata": {
    "collapsed": false
   },
   "outputs": [
    {
     "name": "stdout",
     "output_type": "stream",
     "text": [
      "Expected lifetime for the mouse is [4.5] ticks\n"
     ]
    }
   ],
   "source": [
    "# A simple Markov chain - cat and mouse\n",
    "I = eye(4)\n",
    "P = [0 0 .5 0; 0 0 1 0; .25 .25 0 .25; 0 0 .5 0]\n",
    "ep = [0 1 0 0] * inv(I - P) * [1, 1, 1, 1]\n",
    "println(\"Expected lifetime for the mouse is $ep ticks\")"
   ]
  },
  {
   "cell_type": "code",
   "execution_count": 16,
   "metadata": {
    "collapsed": false
   },
   "outputs": [
    {
     "data": {
      "text/plain": [
       "7-element Array{UInt8,1}:\n",
       " 0x48\n",
       " 0x45\n",
       " 0x58\n",
       " 0x3a\n",
       " 0xef\n",
       " 0x63\n",
       " 0x63"
      ]
     },
     "execution_count": 16,
     "metadata": {},
     "output_type": "execute_result"
    }
   ],
   "source": [
    "A = b\"HEX:\\xefcc\""
   ]
  },
  {
   "cell_type": "code",
   "execution_count": 17,
   "metadata": {
    "collapsed": false
   },
   "outputs": [
    {
     "data": {
      "text/plain": [
       "11-element Array{UInt8,1}:\n",
       " 0xe2\n",
       " 0x88\n",
       " 0xa0\n",
       " 0x20\n",
       " 0x78\n",
       " 0x20\n",
       " 0xe2\n",
       " 0x88\n",
       " 0x83\n",
       " 0x20\n",
       " 0x79"
      ]
     },
     "execution_count": 17,
     "metadata": {},
     "output_type": "execute_result"
    }
   ],
   "source": [
    "B = b\"\\u2220 x \\u2203 y\""
   ]
  },
  {
   "cell_type": "code",
   "execution_count": 18,
   "metadata": {
    "collapsed": false
   },
   "outputs": [
    {
     "data": {
      "text/plain": [
       "v\"1.0.0\""
      ]
     },
     "execution_count": 18,
     "metadata": {},
     "output_type": "execute_result"
    }
   ],
   "source": [
    "v\"1\""
   ]
  },
  {
   "cell_type": "code",
   "execution_count": 22,
   "metadata": {
    "collapsed": false
   },
   "outputs": [
    {
     "data": {
      "text/plain": [
       "bacs (generic function with 1 method)"
      ]
     },
     "execution_count": 22,
     "metadata": {},
     "output_type": "execute_result"
    }
   ],
   "source": [
    "# A game simulation: Bulls and Cows\n",
    "function bacs()\n",
    "    bulls = cows = turn = 0\n",
    "    A = []\n",
    "    srand(int(time()))\n",
    "    while length(unique(A)) < 4\n",
    "        push!(A, rand('1': '9'))\n",
    "    end\n",
    "    bacs_number = unique(A)\n",
    "    println(\"Bulls and Cows\")\n",
    "    while (bulls != 4)\n",
    "        print(\"Guess? \")\n",
    "        if eof(STDIN)\n",
    "            s = \"q\"\n",
    "        else\n",
    "            s = chomp(readline(STDIN))\n",
    "        end\n",
    "        if (s == \"q\")\n",
    "            print(\"My guess was \")\n",
    "            [print(bacs_number[i]) for i = 1:4]\n",
    "            return\n",
    "        end\n",
    "        guess = collect(s)\n",
    "        if !(length(unique(guess)) == length(guess) == 4 &&\n",
    "            all(isdigit, guess))\n",
    "            print(\"\\nEnter four distinct digits or q to quit: \")\n",
    "            continue\n",
    "        end\n",
    "        bulls = sum(map(==, guess, bacs_number))\n",
    "        cows = length(intersect(guess, bacs_number)) - bulls\n",
    "        println(\"$bulls bulls and $cows cows!\")\n",
    "        turns += 1\n",
    "    end\n",
    "    println(\"You guessed my number in $turns turns.\")\n",
    "end"
   ]
  }
 ],
 "metadata": {
  "kernelspec": {
   "display_name": "Julia 0.4.1",
   "language": "julia",
   "name": "julia-0.4"
  },
  "language_info": {
   "file_extension": ".jl",
   "mimetype": "application/julia",
   "name": "julia",
   "version": "0.4.1"
  }
 },
 "nbformat": 4,
 "nbformat_minor": 0
}

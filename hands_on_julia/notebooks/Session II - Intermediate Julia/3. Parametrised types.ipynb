{
 "cells": [
  {
   "cell_type": "markdown",
   "metadata": {},
   "source": [
    "# Parametrised types "
   ]
  },
  {
   "cell_type": "markdown",
   "metadata": {},
   "source": [
    "In the previous notebook, we defined a `Vector2D` type that contained `Float64`s.\n",
    "But we can think of 2D vectors that contain any kind of objects, not just `Float64`s. One solution would be to leave off the type annotations when defining the type, but this will allow any types for either of the two variables.\n",
    "\n",
    "Often we rather want to guarantee that they both have the *same* type, but allow the possibility of putting *any* type there. Julia allows this with *parametrised types*: we introduce a *type parameter*:\n"
   ]
  },
  {
   "cell_type": "code",
   "execution_count": 3,
   "metadata": {
    "collapsed": true
   },
   "outputs": [],
   "source": [
    "type Vector2D{T}\n",
    "    x::T\n",
    "    y::T\n",
    "end"
   ]
  },
  {
   "cell_type": "markdown",
   "metadata": {},
   "source": [
    "This allows an arbitrary number of *different* `Vector2D` types with different contents:"
   ]
  },
  {
   "cell_type": "markdown",
   "metadata": {},
   "source": [
    "[1] Try creating a `Vector2D` containing two integers. What is the type of the resulting object?\n",
    "\n",
    "[2] Do the same for two `Float64`.\n",
    "\n",
    "[3] What happens if you try one integer and one float?\n",
    "\n",
    "[4] What do you think `Vector2D{Float64}(3, 4)` should do? Does it work?"
   ]
  },
  {
   "cell_type": "markdown",
   "metadata": {},
   "source": [
    "Functions such as `+` can also be parametrised using `{T}` after the function name. \n",
    "\n",
    "[5] Define a parametrised `+` for `Vector2D`. Can you define a specialised `+` for one particular type of `Vector2D` (i.e. for one particular value of `T`)?"
   ]
  },
  {
   "cell_type": "markdown",
   "metadata": {},
   "source": [
    "## Inner constructors"
   ]
  },
  {
   "cell_type": "markdown",
   "metadata": {},
   "source": [
    "Often, it is necessary to create a constructor that does some validation of the arguments before the object is created. These are placed *inside* the definition of the type, and so are called *inner constructors*. They use a special function `new` which is passed the values of the variables; some may be left uninitialized.\n",
    "\n",
    "If an inner constructor is provided, then the default constructors are no longer provided. In the case of parametrised types, we often need to provide reasonable \"default\" constructors in this case."
   ]
  },
  {
   "cell_type": "markdown",
   "metadata": {},
   "source": [
    "[1] Define an `Interval` type to represent an interval of real numbers with a `min` and a `max`. Use an inner constructor to ensure that the `min` is less than the `max`. [What could you do if not?]"
   ]
  }
 ],
 "metadata": {
  "kernelspec": {
   "display_name": "Julia 0.3.9-pre",
   "language": "julia",
   "name": "julia-0.3"
  },
  "language_info": {
   "name": "julia",
   "version": "0.3.10"
  }
 },
 "nbformat": 4,
 "nbformat_minor": 0
}

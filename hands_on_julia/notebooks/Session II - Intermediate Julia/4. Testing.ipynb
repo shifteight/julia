{
 "cells": [
  {
   "cell_type": "markdown",
   "metadata": {},
   "source": [
    "# Testing and exception handling"
   ]
  },
  {
   "cell_type": "markdown",
   "metadata": {},
   "source": [
    "The importance of testing has been recognised in software engineering for the last 20 years, but in many scientific computing contexts it has only recently been discovered.\n",
    "\n",
    "Julia has (at least) two commonly-used testing frameworks: `Base.Test` and the [`FactCheck.jl`](https://github.com/JuliaLang/FactCheck.jl) package. `Base.Test` is used for writing tests for base Julia, while `FactCheck.jl` is commonly recommended for new packages (and we second this recommendation)."
   ]
  },
  {
   "cell_type": "markdown",
   "metadata": {},
   "source": [
    "## `Base.Test`"
   ]
  },
  {
   "cell_type": "markdown",
   "metadata": {},
   "source": [
    "`Base.Test` is relatively basic: it provides a macro `@test`,  as well as several variants (use tab completion), that take an expression and test its value. For example:"
   ]
  },
  {
   "cell_type": "code",
   "execution_count": null,
   "metadata": {
    "collapsed": true
   },
   "outputs": [],
   "source": [
    "using Base.Test"
   ]
  },
  {
   "cell_type": "code",
   "execution_count": null,
   "metadata": {
    "collapsed": false
   },
   "outputs": [],
   "source": [
    "f(x) = x^2\n",
    "@test f(3) == 9"
   ]
  },
  {
   "cell_type": "markdown",
   "metadata": {},
   "source": [
    "[1] What happens if you write a test in which `f(3)` is compared with 10?\n",
    "\n",
    "It is common to put all the tests in a file called \"runtests.jl\" (or split them up into separate files and `include` those in `runtest.jl`).\n",
    "\n",
    "[2] Design tests for the `Vector2D` and `AutoDiff` types and associated functions."
   ]
  },
  {
   "cell_type": "markdown",
   "metadata": {},
   "source": [
    "## `FactCheck.jl`"
   ]
  },
  {
   "cell_type": "markdown",
   "metadata": {},
   "source": [
    "One of the problems with `Base.Test` is that it stops as soon as the first failing test is found. It is often more useful to run the tests and have a record of which passed, or at least which failed. The `FactCheck.jl` package provides this:"
   ]
  },
  {
   "cell_type": "code",
   "execution_count": null,
   "metadata": {
    "collapsed": true
   },
   "outputs": [],
   "source": [
    "using FactCheck"
   ]
  },
  {
   "cell_type": "code",
   "execution_count": null,
   "metadata": {
    "collapsed": false
   },
   "outputs": [],
   "source": [
    "facts(\"Tests of f\") do\n",
    "    @fact f(3) => 9\n",
    "end"
   ]
  },
  {
   "cell_type": "markdown",
   "metadata": {},
   "source": [
    "[This uses the `do...end` syntax, which passes the code between `do` and `end` as an anonymous function as the first argument of the function `facts` (in this case).]\n",
    "\n",
    "[1] Add some more passing and failing tests both to the `Base.Test` and `FactCheck.jl` versions. What happens?\n",
    "\n",
    "[2] Write tests using `FactCheck` for `Vector2D` and `AutoDiff`. You can also use `context(\"...\") do...end` for finer control over the output."
   ]
  },
  {
   "cell_type": "markdown",
   "metadata": {},
   "source": [
    "The tests of an installed package may be run using `Pkg.test(\"Distributions\")`."
   ]
  },
  {
   "cell_type": "markdown",
   "metadata": {},
   "source": [
    "# Exception handling "
   ]
  },
  {
   "cell_type": "markdown",
   "metadata": {},
   "source": [
    "Exceptions occur when an \"unusual\" condition occurs in your code, for example:"
   ]
  },
  {
   "cell_type": "code",
   "execution_count": 1,
   "metadata": {
    "collapsed": false
   },
   "outputs": [
    {
     "ename": "LoadError",
     "evalue": "DomainError\nwhile loading In[1], in expression starting on line 1",
     "output_type": "error",
     "traceback": [
      "DomainError\nwhile loading In[1], in expression starting on line 1",
      "",
      " in sqrt at math.jl:133"
     ]
    }
   ],
   "source": [
    "sqrt(-10)"
   ]
  },
  {
   "cell_type": "code",
   "execution_count": 2,
   "metadata": {
    "collapsed": false
   },
   "outputs": [
    {
     "ename": "LoadError",
     "evalue": "InexactError()\nwhile loading In[2], in expression starting on line 2",
     "output_type": "error",
     "traceback": [
      "InexactError()\nwhile loading In[2], in expression starting on line 2",
      "",
      " in setindex! at array.jl:307"
     ]
    }
   ],
   "source": [
    "x = [3, 4]\n",
    "x[1] = 3.5"
   ]
  },
  {
   "cell_type": "markdown",
   "metadata": {},
   "source": [
    "[1] Find the \"parent\" type of these two types using the `super` function."
   ]
  },
  {
   "cell_type": "markdown",
   "metadata": {},
   "source": [
    "We can tell when exceptions have occured using `try...catch`:\n",
    "\n",
    "    try \n",
    "        <CODE TO TRY>\n",
    "        <MORE CODE TO TRY>\n",
    "    \n",
    "    catch <EXCEPTION>\n",
    "    \n",
    "        <WHAT TO DO IF THE EXCEPTION WAS CAUGHT>\n",
    "    \n",
    "    end\n",
    "    \n",
    "    \n",
    "We can also use `throw()` to generate an exception."
   ]
  },
  {
   "cell_type": "markdown",
   "metadata": {},
   "source": [
    "[1] Make a version of `sqrt` that works for positive and negative real arguments. [NB: The result will *not* be type stable.]\n",
    "\n",
    "[2] Define an interval type that represents an interval of real numbers. Define a version of square root that accepts an interval and returns a new interval that represents the possible square roots of all the values in the interval, if all the numbers in the interval are positive; it throws one type of exception if the argument intersects the positive numbers, and it throws a different exception if the interval is completely negative. [You may define new types of exception using `type MyException <: Exception end`.]"
   ]
  }
 ],
 "metadata": {
  "kernelspec": {
   "display_name": "Julia 0.3.9-pre",
   "language": "julia",
   "name": "julia-0.3"
  },
  "language_info": {
   "name": "julia",
   "version": "0.3.10"
  }
 },
 "nbformat": 4,
 "nbformat_minor": 0
}

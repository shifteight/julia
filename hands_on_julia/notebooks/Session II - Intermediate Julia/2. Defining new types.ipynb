{
 "cells": [
  {
   "cell_type": "markdown",
   "metadata": {},
   "source": [
    "# Composite types "
   ]
  },
  {
   "cell_type": "markdown",
   "metadata": {},
   "source": [
    "Julia allows us to define new types; in fact, many Julia types, such as `Rational` and `Complex`, are defined directly in Julia code, and are on the same footing as the types we can define ourselves -- just try `methods(Rational)`, for example, to look at the code."
   ]
  },
  {
   "cell_type": "markdown",
   "metadata": {},
   "source": [
    "Suppose we wish to define a type to represent a rational number. We would need to store the numerator and denominator, and define functions such as `+` acting on two rationals, or on a rational and an integer, etc.\n",
    "\n",
    "Since we now already know how to extend arithmetic operators and other functions to act on rationals, we only need to know the syntax for declaring a new so-called **composite type** (often called a structure, record, or class in other languages). It looks like the following:"
   ]
  },
  {
   "cell_type": "code",
   "execution_count": 4,
   "metadata": {
    "collapsed": true
   },
   "outputs": [],
   "source": [
    "type MyRational\n",
    "    numerator :: Int\n",
    "    denominator :: Int\n",
    "end"
   ]
  },
  {
   "cell_type": "markdown",
   "metadata": {},
   "source": [
    "This declares what an object (basically, a black box with contents) of type `MyRational` looks like, i.e. which variables it contains, and what types those variables have. \n",
    "\n",
    "In fact, it also (by default) declares a *constructor*, a function with the same name as the type that is used to create objects of the type:"
   ]
  },
  {
   "cell_type": "markdown",
   "metadata": {},
   "source": [
    "[1] Use `methods` to find out which versions of the constructor have been created automatically for our new type. Create some objects. \n",
    "\n",
    "An object `r` has two fields which are accessed by `r.numerator` and `r.denominator`. You can see the list of available properties of an object using tab completion or the `names` function [changed to `fieldnames` in v0.4]. \n",
    "\n",
    "[2] Define `*` and `+` for two objects of the `MyRational` type. [Hint: What should these functions return?]"
   ]
  },
  {
   "cell_type": "markdown",
   "metadata": {},
   "source": [
    "The definition of the built-in `Rational` type takes a very similar form."
   ]
  },
  {
   "cell_type": "markdown",
   "metadata": {},
   "source": [
    "As with any generic function, we can ourselves add methods:\n",
    "\n",
    "[3] Add a method to the constructor that takes a single integer and constructs the corresponding rational number.\n",
    "Such methods are called *outer constructors*, since they are placed outside the definition of the type."
   ]
  },
  {
   "cell_type": "markdown",
   "metadata": {},
   "source": [
    "## Exercise: `Vector2D`"
   ]
  },
  {
   "cell_type": "markdown",
   "metadata": {},
   "source": [
    "As we have seen, Julia's arrays act both as storage and as vectors. Currently, there are no *fixed-size* vectors in base Julia (although this is expected to change in the future). Nonetheless, fixed size arrays are important in many aplications. [There are the [`ImmutableArrays`](https://github.com/JuliaGeometry/ImmutableArrays.jl) and, more recently, [`FixedSizeArrays.jl`](https://github.com/SimonDanisch/FixedSizeArrays.jl) packages.] \n",
    "\n",
    "For example, suppose we wish to model a particle moving in 2 dimensions, with a 2-dimensional position vector and a 2-dimensional velocity vector. We could use a standard Julia array for the position and velocity, but this will, in principle, be less efficient than if we could directly use an array of fixed size 2. We can easily define such an object by hand:"
   ]
  },
  {
   "cell_type": "markdown",
   "metadata": {},
   "source": [
    "[1] Define a `Vector2D` object that has `x` and `y` components that are `Float64`s.\n",
    "\n",
    "[2] Define `+`, multiplication by a scalar, and dot product. [For non-arithmetic operations, you must explicitly tell Julia that you are not creating a new function but are extending the previous pre-existing function. This may be done by defining explicitly `Base.dot`, or by first importing the function using `import Base: dot`.]"
   ]
  },
  {
   "cell_type": "markdown",
   "metadata": {},
   "source": [
    "[3] Test the relative efficiency of standard Julia vectors and these `Vector2D` objects. To do so, use the `@time` macro, wrapped around `begin...end` blocks or function calls. Don't forget to run the code once before using `@time` in order to compile the function."
   ]
  },
  {
   "cell_type": "markdown",
   "metadata": {},
   "source": [
    "## Exercise: Particles"
   ]
  },
  {
   "cell_type": "markdown",
   "metadata": {},
   "source": [
    "[3] Define a `Particle` type that contains a position and a velocity. Define a function `move!` that takes an argument $\\delta t$ and moves the particle over a time step with that time.\n",
    "\n",
    "[4] Define a `Gas` type that consists of `N` particles. Write a constructor that accepts a number `N` and creates `N` particles with random positions and velocities. Define a function `move!` that moves the whole gas."
   ]
  },
  {
   "cell_type": "markdown",
   "metadata": {},
   "source": [
    "## Exercise: Automatic differentiation "
   ]
  },
  {
   "cell_type": "markdown",
   "metadata": {},
   "source": [
    "A rather interesting, but surprisingly little-known algorithmic technique is that of *automatic* (or *algorithmic*) differentiation, which allows us to differentiate a function exactly by defining a suitable type and using operator overloading.\n",
    "\n",
    "The idea is to calculate the derivative of a complicated function by splitting it up into simple pieces. In the simplest version, this is done automatically just by defining suitable methods. Pieces may look, for example, like $u+v$, whose derivative at a point $a$ is $u'(a) + v'(a)$, or $u \\cdot v$, whose derivative at $a$ is $u'(a) v(a) + u(a) v'(a)$. Thus the information required for a function $u$ is just $u(a)$ and $u'(a)$, which we will denote by $u$ and $u'$.\n",
    "\n",
    "[1] Define a type `AutoDiff` that contains `Float64`s `u` and `u'`. [The latter may be written `u\\prime<TAB>`.]\n",
    "\n",
    "[2] Using the standard rules of differentiation, define `+` and `*` such that the result gives the value and derivative of the corresponding function.\n",
    "\n",
    "[3] Write a function `sin` acting on an `AutoDiff` object. Define a function $f(x) = \\sin(x^2)$. You should be able to *automatically differentiate* the function if you pass it the correct type of object. What object should you pass it to calculate $f'(a)$ at a point $a$?"
   ]
  }
 ],
 "metadata": {
  "kernelspec": {
   "display_name": "Julia 0.3.9-pre",
   "language": "julia",
   "name": "julia-0.3"
  },
  "language_info": {
   "name": "julia",
   "version": "0.3.10"
  }
 },
 "nbformat": 4,
 "nbformat_minor": 0
}

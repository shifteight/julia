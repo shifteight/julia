{
 "cells": [
  {
   "cell_type": "markdown",
   "metadata": {},
   "source": [
    "# Slurping and splatting: `...`\n",
    "\n",
    "The `...` operator is used for two different (almost opposite) purposes:\n",
    "\n",
    "1. to \"unpack\" iterables (vectors, tuples, etc.) in order to pass them as separate arguments to a function\n",
    "2. to collect multiple arguments to a function into a tuple (\"varargs\")"
   ]
  },
  {
   "cell_type": "markdown",
   "metadata": {},
   "source": [
    "[1] Define a function `f` that takes two arguments. What happens if you pass `f` a vector or tuple of two components? Work out how to use the `...` operator to unpack a vector of two arguments to send it to the function.\n",
    "\n",
    "[2] Define a function `g` that takes one argument that is a function, and a variable other number of arguments called `a` (use `...`). What type does `a` have [use, for example, `@show`]? Define the function so that it applies the given function to the given arguments.\n",
    "\n",
    "[3] The function `vcat` does a vertical concatenation of arrays (try it). Use `vcat` together with the (conjugate) transpose operator `'` to convert a vector of vectors into the corresponding 2D matrix."
   ]
  },
  {
   "cell_type": "markdown",
   "metadata": {},
   "source": [
    "# Short-circuit evaluation "
   ]
  },
  {
   "cell_type": "markdown",
   "metadata": {},
   "source": [
    "It is idiomatic (i.e., often used, and considered good style) in Julia to use special syntax for simple `if` and `if...else` constructions."
   ]
  },
  {
   "cell_type": "markdown",
   "metadata": {},
   "source": [
    "For simple `if`s, we use the boolean operators `&&` and `||`, since they have \"short-circuit\" behaviour. This means that they evaluate their first argument and based on its value they may already know what the result is.\n",
    "\n",
    "For example, if the first argument of `&&` (\"and\") is false, then the result of the `&&` is false, so we can use it as an `if...then`:\n",
    "\n"
   ]
  },
  {
   "cell_type": "code",
   "execution_count": 12,
   "metadata": {
    "collapsed": false
   },
   "outputs": [
    {
     "name": "stdout",
     "output_type": "stream",
     "text": [
      "Small\n",
      "Few digits\n"
     ]
    },
    {
     "data": {
      "text/plain": [
       "false"
      ]
     },
     "execution_count": 12,
     "metadata": {},
     "output_type": "execute_result"
    }
   ],
   "source": [
    "x = 2\n",
    "(x < 3) && println(\"Small\")  # equivalent to:  if (x<3) println(\"Small\"); end\n",
    "x < 100 && println(\"Few digits\")\n",
    "(x < 0) && println(\"Negative\")"
   ]
  },
  {
   "cell_type": "markdown",
   "metadata": {},
   "source": [
    "[1] What does `||` do?"
   ]
  },
  {
   "cell_type": "markdown",
   "metadata": {},
   "source": [
    "Julia also has a C-style ternary operator for `if-else`, denoted `CONDITION ? X : Y`, which does `X` if the condition is true and `Y` if the condition is false.\n",
    "\n",
    "[2] Use the ternary operator to print out \"small\" or \"large\" if x is less than 100 or greater than 100."
   ]
  }
 ],
 "metadata": {
  "kernelspec": {
   "display_name": "Julia 0.3.9-pre",
   "language": "julia",
   "name": "julia-0.3"
  },
  "language_info": {
   "name": "julia",
   "version": "0.3.10"
  }
 },
 "nbformat": 4,
 "nbformat_minor": 0
}

{
 "cells": [
  {
   "cell_type": "markdown",
   "metadata": {},
   "source": [
    "# Generic functions and multiple dispatch"
   ]
  },
  {
   "cell_type": "markdown",
   "metadata": {},
   "source": [
    "We have already seen how to define functions in a basic way, and we have used some predefined functions in Julia.\n",
    "But the story about functions in Julia is deeper and more interesting.\n",
    "\n",
    "Let's consider the operator `+`. In Julia, `+` and all other similar operators are, in fact, functions:"
   ]
  },
  {
   "cell_type": "code",
   "execution_count": 2,
   "metadata": {
    "collapsed": false
   },
   "outputs": [
    {
     "data": {
      "text/plain": [
       "+ (generic function with 117 methods)"
      ]
     },
     "execution_count": 2,
     "metadata": {},
     "output_type": "execute_result"
    }
   ],
   "source": [
    "+"
   ]
  },
  {
   "cell_type": "markdown",
   "metadata": {},
   "source": [
    "We can call them just as if they were functions:"
   ]
  },
  {
   "cell_type": "code",
   "execution_count": 3,
   "metadata": {
    "collapsed": false
   },
   "outputs": [
    {
     "data": {
      "text/plain": [
       "7"
      ]
     },
     "execution_count": 3,
     "metadata": {},
     "output_type": "execute_result"
    }
   ],
   "source": [
    "+(3, 4)"
   ]
  },
  {
   "cell_type": "markdown",
   "metadata": {},
   "source": [
    "The infix notation `3 + 4` is just \"syntactic sugar\" (i.e. a more convenient-for-humans way of writing the same thing).\n",
    "\n",
    "We see from Julia's response that `+` is what is called a *generic function* with a certain (large) number of *methods*. The available methods are obtained using the function called `methods`:"
   ]
  },
  {
   "cell_type": "code",
   "execution_count": 4,
   "metadata": {
    "collapsed": false
   },
   "outputs": [
    {
     "data": {
      "text/html": [
       "117 methods for generic function <b>+</b>:<ul><li> +(x::<b>Bool</b>) at <a href=\"https://github.com/JuliaLang/julia/tree/9559826ed657a8c8d65bd7f9367009603a21cfc3/base/bool.jl#L36\" target=\"_blank\">bool.jl:36</a><li> +(x::<b>Bool</b>,y::<b>Bool</b>) at <a href=\"https://github.com/JuliaLang/julia/tree/9559826ed657a8c8d65bd7f9367009603a21cfc3/base/bool.jl#L39\" target=\"_blank\">bool.jl:39</a><li> +(y::<b>FloatingPoint</b>,x::<b>Bool</b>) at <a href=\"https://github.com/JuliaLang/julia/tree/9559826ed657a8c8d65bd7f9367009603a21cfc3/base/bool.jl#L49\" target=\"_blank\">bool.jl:49</a><li> +(A::<b>BitArray{N}</b>,B::<b>BitArray{N}</b>) at <a href=\"https://github.com/JuliaLang/julia/tree/9559826ed657a8c8d65bd7f9367009603a21cfc3/base/bitarray.jl#L848\" target=\"_blank\">bitarray.jl:848</a><li> +(A::<b>Union(SubArray{Bool,N,A<:DenseArray{T,N},I<:(Union(Int64,Range{Int64})...,)},DenseArray{Bool,N})</b>,B::<b>Union(SubArray{Bool,N,A<:DenseArray{T,N},I<:(Union(Int64,Range{Int64})...,)},DenseArray{Bool,N})</b>) at <a href=\"https://github.com/JuliaLang/julia/tree/9559826ed657a8c8d65bd7f9367009603a21cfc3/base/array.jl#L801\" target=\"_blank\">array.jl:801</a><li> +<i>{S,T}</i>(A::<b>Union(DenseArray{S,N},SubArray{S,N,A<:DenseArray{T,N},I<:(Union(Int64,Range{Int64})...,)})</b>,B::<b>Union(DenseArray{T,N},SubArray{T,N,A<:DenseArray{T,N},I<:(Union(Int64,Range{Int64})...,)})</b>) at <a href=\"https://github.com/JuliaLang/julia/tree/9559826ed657a8c8d65bd7f9367009603a21cfc3/base/array.jl#L723\" target=\"_blank\">array.jl:723</a><li> +<i>{T<:Union(Int16,Int32,Int8)}</i>(x::<b>T<:Union(Int16,Int32,Int8)</b>,y::<b>T<:Union(Int16,Int32,Int8)</b>) at <a href=\"https://github.com/JuliaLang/julia/tree/9559826ed657a8c8d65bd7f9367009603a21cfc3/base/int.jl#L16\" target=\"_blank\">int.jl:16</a><li> +<i>{T<:Union(Uint32,Uint16,Uint8)}</i>(x::<b>T<:Union(Uint32,Uint16,Uint8)</b>,y::<b>T<:Union(Uint32,Uint16,Uint8)</b>) at <a href=\"https://github.com/JuliaLang/julia/tree/9559826ed657a8c8d65bd7f9367009603a21cfc3/base/int.jl#L20\" target=\"_blank\">int.jl:20</a><li> +(x::<b>Int64</b>,y::<b>Int64</b>) at <a href=\"https://github.com/JuliaLang/julia/tree/9559826ed657a8c8d65bd7f9367009603a21cfc3/base/int.jl#L33\" target=\"_blank\">int.jl:33</a><li> +(x::<b>Uint64</b>,y::<b>Uint64</b>) at <a href=\"https://github.com/JuliaLang/julia/tree/9559826ed657a8c8d65bd7f9367009603a21cfc3/base/int.jl#L34\" target=\"_blank\">int.jl:34</a><li> +(x::<b>Int128</b>,y::<b>Int128</b>) at <a href=\"https://github.com/JuliaLang/julia/tree/9559826ed657a8c8d65bd7f9367009603a21cfc3/base/int.jl#L35\" target=\"_blank\">int.jl:35</a><li> +(x::<b>Uint128</b>,y::<b>Uint128</b>) at <a href=\"https://github.com/JuliaLang/julia/tree/9559826ed657a8c8d65bd7f9367009603a21cfc3/base/int.jl#L36\" target=\"_blank\">int.jl:36</a><li> +(x::<b>Float32</b>,y::<b>Float32</b>) at <a href=\"https://github.com/JuliaLang/julia/tree/9559826ed657a8c8d65bd7f9367009603a21cfc3/base/float.jl#L119\" target=\"_blank\">float.jl:119</a><li> +(x::<b>Float64</b>,y::<b>Float64</b>) at <a href=\"https://github.com/JuliaLang/julia/tree/9559826ed657a8c8d65bd7f9367009603a21cfc3/base/float.jl#L120\" target=\"_blank\">float.jl:120</a><li> +(z::<b>Complex{T<:Real}</b>,w::<b>Complex{T<:Real}</b>) at <a href=\"https://github.com/JuliaLang/julia/tree/9559826ed657a8c8d65bd7f9367009603a21cfc3/base/complex.jl#L110\" target=\"_blank\">complex.jl:110</a><li> +(x::<b>Real</b>,z::<b>Complex{T<:Real}</b>) at <a href=\"https://github.com/JuliaLang/julia/tree/9559826ed657a8c8d65bd7f9367009603a21cfc3/base/complex.jl#L120\" target=\"_blank\">complex.jl:120</a><li> +(z::<b>Complex{T<:Real}</b>,x::<b>Real</b>) at <a href=\"https://github.com/JuliaLang/julia/tree/9559826ed657a8c8d65bd7f9367009603a21cfc3/base/complex.jl#L121\" target=\"_blank\">complex.jl:121</a><li> +(x::<b>Rational{T<:Integer}</b>,y::<b>Rational{T<:Integer}</b>) at <a href=\"https://github.com/JuliaLang/julia/tree/9559826ed657a8c8d65bd7f9367009603a21cfc3/base/rational.jl#L113\" target=\"_blank\">rational.jl:113</a><li> +(x::<b>Char</b>,y::<b>Char</b>) at <a href=\"https://github.com/JuliaLang/julia/tree/9559826ed657a8c8d65bd7f9367009603a21cfc3/base/char.jl#L23\" target=\"_blank\">char.jl:23</a><li> +(x::<b>Char</b>,y::<b>Integer</b>) at <a href=\"https://github.com/JuliaLang/julia/tree/9559826ed657a8c8d65bd7f9367009603a21cfc3/base/char.jl#L26\" target=\"_blank\">char.jl:26</a><li> +(x::<b>Integer</b>,y::<b>Char</b>) at <a href=\"https://github.com/JuliaLang/julia/tree/9559826ed657a8c8d65bd7f9367009603a21cfc3/base/char.jl#L27\" target=\"_blank\">char.jl:27</a><li> +(a::<b>Float16</b>,b::<b>Float16</b>) at <a href=\"https://github.com/JuliaLang/julia/tree/9559826ed657a8c8d65bd7f9367009603a21cfc3/base/float16.jl#L132\" target=\"_blank\">float16.jl:132</a><li> +(x::<b>BigInt</b>,y::<b>BigInt</b>) at <a href=\"https://github.com/JuliaLang/julia/tree/9559826ed657a8c8d65bd7f9367009603a21cfc3/base/gmp.jl#L195\" target=\"_blank\">gmp.jl:195</a><li> +(a::<b>BigInt</b>,b::<b>BigInt</b>,c::<b>BigInt</b>) at <a href=\"https://github.com/JuliaLang/julia/tree/9559826ed657a8c8d65bd7f9367009603a21cfc3/base/gmp.jl#L218\" target=\"_blank\">gmp.jl:218</a><li> +(a::<b>BigInt</b>,b::<b>BigInt</b>,c::<b>BigInt</b>,d::<b>BigInt</b>) at <a href=\"https://github.com/JuliaLang/julia/tree/9559826ed657a8c8d65bd7f9367009603a21cfc3/base/gmp.jl#L224\" target=\"_blank\">gmp.jl:224</a><li> +(a::<b>BigInt</b>,b::<b>BigInt</b>,c::<b>BigInt</b>,d::<b>BigInt</b>,e::<b>BigInt</b>) at <a href=\"https://github.com/JuliaLang/julia/tree/9559826ed657a8c8d65bd7f9367009603a21cfc3/base/gmp.jl#L231\" target=\"_blank\">gmp.jl:231</a><li> +(x::<b>BigInt</b>,c::<b>Union(Uint32,Uint64,Uint16,Uint8)</b>) at <a href=\"https://github.com/JuliaLang/julia/tree/9559826ed657a8c8d65bd7f9367009603a21cfc3/base/gmp.jl#L243\" target=\"_blank\">gmp.jl:243</a><li> +(c::<b>Union(Uint32,Uint64,Uint16,Uint8)</b>,x::<b>BigInt</b>) at <a href=\"https://github.com/JuliaLang/julia/tree/9559826ed657a8c8d65bd7f9367009603a21cfc3/base/gmp.jl#L247\" target=\"_blank\">gmp.jl:247</a><li> +(x::<b>BigInt</b>,c::<b>Union(Int16,Int64,Int32,Int8)</b>) at <a href=\"https://github.com/JuliaLang/julia/tree/9559826ed657a8c8d65bd7f9367009603a21cfc3/base/gmp.jl#L259\" target=\"_blank\">gmp.jl:259</a><li> +(c::<b>Union(Int16,Int64,Int32,Int8)</b>,x::<b>BigInt</b>) at <a href=\"https://github.com/JuliaLang/julia/tree/9559826ed657a8c8d65bd7f9367009603a21cfc3/base/gmp.jl#L260\" target=\"_blank\">gmp.jl:260</a><li> +(x::<b>BigFloat</b>,y::<b>BigFloat</b>) at <a href=\"https://github.com/JuliaLang/julia/tree/9559826ed657a8c8d65bd7f9367009603a21cfc3/base/mpfr.jl#L149\" target=\"_blank\">mpfr.jl:149</a><li> +(x::<b>BigFloat</b>,c::<b>Union(Uint32,Uint64,Uint16,Uint8)</b>) at <a href=\"https://github.com/JuliaLang/julia/tree/9559826ed657a8c8d65bd7f9367009603a21cfc3/base/mpfr.jl#L156\" target=\"_blank\">mpfr.jl:156</a><li> +(c::<b>Union(Uint32,Uint64,Uint16,Uint8)</b>,x::<b>BigFloat</b>) at <a href=\"https://github.com/JuliaLang/julia/tree/9559826ed657a8c8d65bd7f9367009603a21cfc3/base/mpfr.jl#L160\" target=\"_blank\">mpfr.jl:160</a><li> +(x::<b>BigFloat</b>,c::<b>Union(Int16,Int64,Int32,Int8)</b>) at <a href=\"https://github.com/JuliaLang/julia/tree/9559826ed657a8c8d65bd7f9367009603a21cfc3/base/mpfr.jl#L164\" target=\"_blank\">mpfr.jl:164</a><li> +(c::<b>Union(Int16,Int64,Int32,Int8)</b>,x::<b>BigFloat</b>) at <a href=\"https://github.com/JuliaLang/julia/tree/9559826ed657a8c8d65bd7f9367009603a21cfc3/base/mpfr.jl#L168\" target=\"_blank\">mpfr.jl:168</a><li> +(x::<b>BigFloat</b>,c::<b>Union(Float32,Float16,Float64)</b>) at <a href=\"https://github.com/JuliaLang/julia/tree/9559826ed657a8c8d65bd7f9367009603a21cfc3/base/mpfr.jl#L172\" target=\"_blank\">mpfr.jl:172</a><li> +(c::<b>Union(Float32,Float16,Float64)</b>,x::<b>BigFloat</b>) at <a href=\"https://github.com/JuliaLang/julia/tree/9559826ed657a8c8d65bd7f9367009603a21cfc3/base/mpfr.jl#L176\" target=\"_blank\">mpfr.jl:176</a><li> +(x::<b>BigFloat</b>,c::<b>BigInt</b>) at <a href=\"https://github.com/JuliaLang/julia/tree/9559826ed657a8c8d65bd7f9367009603a21cfc3/base/mpfr.jl#L180\" target=\"_blank\">mpfr.jl:180</a><li> +(c::<b>BigInt</b>,x::<b>BigFloat</b>) at <a href=\"https://github.com/JuliaLang/julia/tree/9559826ed657a8c8d65bd7f9367009603a21cfc3/base/mpfr.jl#L184\" target=\"_blank\">mpfr.jl:184</a><li> +(a::<b>BigFloat</b>,b::<b>BigFloat</b>,c::<b>BigFloat</b>) at <a href=\"https://github.com/JuliaLang/julia/tree/9559826ed657a8c8d65bd7f9367009603a21cfc3/base/mpfr.jl#L255\" target=\"_blank\">mpfr.jl:255</a><li> +(a::<b>BigFloat</b>,b::<b>BigFloat</b>,c::<b>BigFloat</b>,d::<b>BigFloat</b>) at <a href=\"https://github.com/JuliaLang/julia/tree/9559826ed657a8c8d65bd7f9367009603a21cfc3/base/mpfr.jl#L261\" target=\"_blank\">mpfr.jl:261</a><li> +(a::<b>BigFloat</b>,b::<b>BigFloat</b>,c::<b>BigFloat</b>,d::<b>BigFloat</b>,e::<b>BigFloat</b>) at <a href=\"https://github.com/JuliaLang/julia/tree/9559826ed657a8c8d65bd7f9367009603a21cfc3/base/mpfr.jl#L268\" target=\"_blank\">mpfr.jl:268</a><li> +(x::<b>MathConst{sym}</b>,y::<b>MathConst{sym}</b>) at <a href=\"https://github.com/JuliaLang/julia/tree/9559826ed657a8c8d65bd7f9367009603a21cfc3/base/constants.jl#L23\" target=\"_blank\">constants.jl:23</a><li> +<i>{T<:Number}</i>(x::<b>T<:Number</b>,y::<b>T<:Number</b>) at <a href=\"https://github.com/JuliaLang/julia/tree/9559826ed657a8c8d65bd7f9367009603a21cfc3/base/promotion.jl#L188\" target=\"_blank\">promotion.jl:188</a><li> +<i>{T<:FloatingPoint}</i>(x::<b>Bool</b>,y::<b>T<:FloatingPoint</b>) at <a href=\"https://github.com/JuliaLang/julia/tree/9559826ed657a8c8d65bd7f9367009603a21cfc3/base/bool.jl#L46\" target=\"_blank\">bool.jl:46</a><li> +(x::<b>Number</b>,y::<b>Number</b>) at <a href=\"https://github.com/JuliaLang/julia/tree/9559826ed657a8c8d65bd7f9367009603a21cfc3/base/promotion.jl#L158\" target=\"_blank\">promotion.jl:158</a><li> +(x::<b>Integer</b>,y::<b>Ptr{T}</b>) at <a href=\"https://github.com/JuliaLang/julia/tree/9559826ed657a8c8d65bd7f9367009603a21cfc3/base/pointer.jl#L68\" target=\"_blank\">pointer.jl:68</a><li> +(x::<b>Bool</b>,A::<b>AbstractArray{Bool,N}</b>) at <a href=\"https://github.com/JuliaLang/julia/tree/9559826ed657a8c8d65bd7f9367009603a21cfc3/base/array.jl#L771\" target=\"_blank\">array.jl:771</a><li> +(x::<b>Number</b>) at <a href=\"https://github.com/JuliaLang/julia/tree/9559826ed657a8c8d65bd7f9367009603a21cfc3/base/operators.jl#L71\" target=\"_blank\">operators.jl:71</a><li> +(r1::<b>OrdinalRange{T,S}</b>,r2::<b>OrdinalRange{T,S}</b>) at <a href=\"https://github.com/JuliaLang/julia/tree/9559826ed657a8c8d65bd7f9367009603a21cfc3/base/operators.jl#L325\" target=\"_blank\">operators.jl:325</a><li> +<i>{T<:FloatingPoint}</i>(r1::<b>FloatRange{T<:FloatingPoint}</b>,r2::<b>FloatRange{T<:FloatingPoint}</b>) at <a href=\"https://github.com/JuliaLang/julia/tree/9559826ed657a8c8d65bd7f9367009603a21cfc3/base/operators.jl#L331\" target=\"_blank\">operators.jl:331</a><li> +(r1::<b>FloatRange{T<:FloatingPoint}</b>,r2::<b>FloatRange{T<:FloatingPoint}</b>) at <a href=\"https://github.com/JuliaLang/julia/tree/9559826ed657a8c8d65bd7f9367009603a21cfc3/base/operators.jl#L348\" target=\"_blank\">operators.jl:348</a><li> +(r1::<b>FloatRange{T<:FloatingPoint}</b>,r2::<b>OrdinalRange{T,S}</b>) at <a href=\"https://github.com/JuliaLang/julia/tree/9559826ed657a8c8d65bd7f9367009603a21cfc3/base/operators.jl#L349\" target=\"_blank\">operators.jl:349</a><li> +(r1::<b>OrdinalRange{T,S}</b>,r2::<b>FloatRange{T<:FloatingPoint}</b>) at <a href=\"https://github.com/JuliaLang/julia/tree/9559826ed657a8c8d65bd7f9367009603a21cfc3/base/operators.jl#L350\" target=\"_blank\">operators.jl:350</a><li> +(x::<b>Ptr{T}</b>,y::<b>Integer</b>) at <a href=\"https://github.com/JuliaLang/julia/tree/9559826ed657a8c8d65bd7f9367009603a21cfc3/base/pointer.jl#L66\" target=\"_blank\">pointer.jl:66</a><li> +<i>{S,T<:Real}</i>(A::<b>Union(DenseArray{S,N},SubArray{S,N,A<:DenseArray{T,N},I<:(Union(Int64,Range{Int64})...,)})</b>,B::<b>Range{T<:Real}</b>) at <a href=\"https://github.com/JuliaLang/julia/tree/9559826ed657a8c8d65bd7f9367009603a21cfc3/base/array.jl#L731\" target=\"_blank\">array.jl:731</a><li> +<i>{S<:Real,T}</i>(A::<b>Range{S<:Real}</b>,B::<b>Union(DenseArray{T,N},SubArray{T,N,A<:DenseArray{T,N},I<:(Union(Int64,Range{Int64})...,)})</b>) at <a href=\"https://github.com/JuliaLang/julia/tree/9559826ed657a8c8d65bd7f9367009603a21cfc3/base/array.jl#L740\" target=\"_blank\">array.jl:740</a><li> +(A::<b>AbstractArray{Bool,N}</b>,x::<b>Bool</b>) at <a href=\"https://github.com/JuliaLang/julia/tree/9559826ed657a8c8d65bd7f9367009603a21cfc3/base/array.jl#L770\" target=\"_blank\">array.jl:770</a><li> +<i>{Tv,Ti}</i>(A::<b>SparseMatrixCSC{Tv,Ti}</b>,B::<b>SparseMatrixCSC{Tv,Ti}</b>) at <a href=\"https://github.com/JuliaLang/julia/tree/9559826ed657a8c8d65bd7f9367009603a21cfc3/base/sparse/sparsematrix.jl#L552\" target=\"_blank\">sparse/sparsematrix.jl:552</a><li> +<i>{TvA,TiA,TvB,TiB}</i>(A::<b>SparseMatrixCSC{TvA,TiA}</b>,B::<b>SparseMatrixCSC{TvB,TiB}</b>) at <a href=\"https://github.com/JuliaLang/julia/tree/9559826ed657a8c8d65bd7f9367009603a21cfc3/base/sparse/sparsematrix.jl#L544\" target=\"_blank\">sparse/sparsematrix.jl:544</a><li> +(A::<b>SparseMatrixCSC{Tv,Ti<:Integer}</b>,B::<b>Array{T,N}</b>) at <a href=\"https://github.com/JuliaLang/julia/tree/9559826ed657a8c8d65bd7f9367009603a21cfc3/base/sparse/sparsematrix.jl#L643\" target=\"_blank\">sparse/sparsematrix.jl:643</a><li> +(A::<b>Array{T,N}</b>,B::<b>SparseMatrixCSC{Tv,Ti<:Integer}</b>) at <a href=\"https://github.com/JuliaLang/julia/tree/9559826ed657a8c8d65bd7f9367009603a21cfc3/base/sparse/sparsematrix.jl#L645\" target=\"_blank\">sparse/sparsematrix.jl:645</a><li> +(A::<b>SymTridiagonal{T}</b>,B::<b>SymTridiagonal{T}</b>) at <a href=\"https://github.com/JuliaLang/julia/tree/9559826ed657a8c8d65bd7f9367009603a21cfc3/base/linalg/tridiag.jl#L57\" target=\"_blank\">linalg/tridiag.jl:57</a><li> +(A::<b>Tridiagonal{T}</b>,B::<b>Tridiagonal{T}</b>) at <a href=\"https://github.com/JuliaLang/julia/tree/9559826ed657a8c8d65bd7f9367009603a21cfc3/base/linalg/tridiag.jl#L247\" target=\"_blank\">linalg/tridiag.jl:247</a><li> +(A::<b>Tridiagonal{T}</b>,B::<b>SymTridiagonal{T}</b>) at <a href=\"https://github.com/JuliaLang/julia/tree/9559826ed657a8c8d65bd7f9367009603a21cfc3/base/linalg/special.jl#L99\" target=\"_blank\">linalg/special.jl:99</a><li> +(A::<b>SymTridiagonal{T}</b>,B::<b>Tridiagonal{T}</b>) at <a href=\"https://github.com/JuliaLang/julia/tree/9559826ed657a8c8d65bd7f9367009603a21cfc3/base/linalg/special.jl#L98\" target=\"_blank\">linalg/special.jl:98</a><li> +<i>{T,MT,uplo}</i>(A::<b>Triangular{T,MT,uplo,IsUnit}</b>,B::<b>Triangular{T,MT,uplo,IsUnit}</b>) at <a href=\"https://github.com/JuliaLang/julia/tree/9559826ed657a8c8d65bd7f9367009603a21cfc3/base/linalg/triangular.jl#L11\" target=\"_blank\">linalg/triangular.jl:11</a><li> +<i>{T,MT,uplo1,uplo2}</i>(A::<b>Triangular{T,MT,uplo1,IsUnit}</b>,B::<b>Triangular{T,MT,uplo2,IsUnit}</b>) at <a href=\"https://github.com/JuliaLang/julia/tree/9559826ed657a8c8d65bd7f9367009603a21cfc3/base/linalg/triangular.jl#L12\" target=\"_blank\">linalg/triangular.jl:12</a><li> +(Da::<b>Diagonal{T}</b>,Db::<b>Diagonal{T}</b>) at <a href=\"https://github.com/JuliaLang/julia/tree/9559826ed657a8c8d65bd7f9367009603a21cfc3/base/linalg/diagonal.jl#L47\" target=\"_blank\">linalg/diagonal.jl:47</a><li> +(A::<b>Bidiagonal{T}</b>,B::<b>Bidiagonal{T}</b>) at <a href=\"https://github.com/JuliaLang/julia/tree/9559826ed657a8c8d65bd7f9367009603a21cfc3/base/linalg/bidiag.jl#L92\" target=\"_blank\">linalg/bidiag.jl:92</a><li> +<i>{T}</i>(B::<b>BitArray{2}</b>,J::<b>UniformScaling{T}</b>) at <a href=\"https://github.com/JuliaLang/julia/tree/9559826ed657a8c8d65bd7f9367009603a21cfc3/base/linalg/uniformscaling.jl#L26\" target=\"_blank\">linalg/uniformscaling.jl:26</a><li> +(A::<b>Diagonal{T}</b>,B::<b>Bidiagonal{T}</b>) at <a href=\"https://github.com/JuliaLang/julia/tree/9559826ed657a8c8d65bd7f9367009603a21cfc3/base/linalg/special.jl#L89\" target=\"_blank\">linalg/special.jl:89</a><li> +(A::<b>Bidiagonal{T}</b>,B::<b>Diagonal{T}</b>) at <a href=\"https://github.com/JuliaLang/julia/tree/9559826ed657a8c8d65bd7f9367009603a21cfc3/base/linalg/special.jl#L90\" target=\"_blank\">linalg/special.jl:90</a><li> +(A::<b>Diagonal{T}</b>,B::<b>Tridiagonal{T}</b>) at <a href=\"https://github.com/JuliaLang/julia/tree/9559826ed657a8c8d65bd7f9367009603a21cfc3/base/linalg/special.jl#L89\" target=\"_blank\">linalg/special.jl:89</a><li> +(A::<b>Tridiagonal{T}</b>,B::<b>Diagonal{T}</b>) at <a href=\"https://github.com/JuliaLang/julia/tree/9559826ed657a8c8d65bd7f9367009603a21cfc3/base/linalg/special.jl#L90\" target=\"_blank\">linalg/special.jl:90</a><li> +(A::<b>Diagonal{T}</b>,B::<b>Triangular{T,S<:AbstractArray{T,2},UpLo,IsUnit}</b>) at <a href=\"https://github.com/JuliaLang/julia/tree/9559826ed657a8c8d65bd7f9367009603a21cfc3/base/linalg/special.jl#L89\" target=\"_blank\">linalg/special.jl:89</a><li> +(A::<b>Triangular{T,S<:AbstractArray{T,2},UpLo,IsUnit}</b>,B::<b>Diagonal{T}</b>) at <a href=\"https://github.com/JuliaLang/julia/tree/9559826ed657a8c8d65bd7f9367009603a21cfc3/base/linalg/special.jl#L90\" target=\"_blank\">linalg/special.jl:90</a><li> +(A::<b>Diagonal{T}</b>,B::<b>Array{T,2}</b>) at <a href=\"https://github.com/JuliaLang/julia/tree/9559826ed657a8c8d65bd7f9367009603a21cfc3/base/linalg/special.jl#L89\" target=\"_blank\">linalg/special.jl:89</a><li> +(A::<b>Array{T,2}</b>,B::<b>Diagonal{T}</b>) at <a href=\"https://github.com/JuliaLang/julia/tree/9559826ed657a8c8d65bd7f9367009603a21cfc3/base/linalg/special.jl#L90\" target=\"_blank\">linalg/special.jl:90</a><li> +(A::<b>Bidiagonal{T}</b>,B::<b>Tridiagonal{T}</b>) at <a href=\"https://github.com/JuliaLang/julia/tree/9559826ed657a8c8d65bd7f9367009603a21cfc3/base/linalg/special.jl#L89\" target=\"_blank\">linalg/special.jl:89</a><li> +(A::<b>Tridiagonal{T}</b>,B::<b>Bidiagonal{T}</b>) at <a href=\"https://github.com/JuliaLang/julia/tree/9559826ed657a8c8d65bd7f9367009603a21cfc3/base/linalg/special.jl#L90\" target=\"_blank\">linalg/special.jl:90</a><li> +(A::<b>Bidiagonal{T}</b>,B::<b>Triangular{T,S<:AbstractArray{T,2},UpLo,IsUnit}</b>) at <a href=\"https://github.com/JuliaLang/julia/tree/9559826ed657a8c8d65bd7f9367009603a21cfc3/base/linalg/special.jl#L89\" target=\"_blank\">linalg/special.jl:89</a><li> +(A::<b>Triangular{T,S<:AbstractArray{T,2},UpLo,IsUnit}</b>,B::<b>Bidiagonal{T}</b>) at <a href=\"https://github.com/JuliaLang/julia/tree/9559826ed657a8c8d65bd7f9367009603a21cfc3/base/linalg/special.jl#L90\" target=\"_blank\">linalg/special.jl:90</a><li> +(A::<b>Bidiagonal{T}</b>,B::<b>Array{T,2}</b>) at <a href=\"https://github.com/JuliaLang/julia/tree/9559826ed657a8c8d65bd7f9367009603a21cfc3/base/linalg/special.jl#L89\" target=\"_blank\">linalg/special.jl:89</a><li> +(A::<b>Array{T,2}</b>,B::<b>Bidiagonal{T}</b>) at <a href=\"https://github.com/JuliaLang/julia/tree/9559826ed657a8c8d65bd7f9367009603a21cfc3/base/linalg/special.jl#L90\" target=\"_blank\">linalg/special.jl:90</a><li> +(A::<b>Tridiagonal{T}</b>,B::<b>Triangular{T,S<:AbstractArray{T,2},UpLo,IsUnit}</b>) at <a href=\"https://github.com/JuliaLang/julia/tree/9559826ed657a8c8d65bd7f9367009603a21cfc3/base/linalg/special.jl#L89\" target=\"_blank\">linalg/special.jl:89</a><li> +(A::<b>Triangular{T,S<:AbstractArray{T,2},UpLo,IsUnit}</b>,B::<b>Tridiagonal{T}</b>) at <a href=\"https://github.com/JuliaLang/julia/tree/9559826ed657a8c8d65bd7f9367009603a21cfc3/base/linalg/special.jl#L90\" target=\"_blank\">linalg/special.jl:90</a><li> +(A::<b>Tridiagonal{T}</b>,B::<b>Array{T,2}</b>) at <a href=\"https://github.com/JuliaLang/julia/tree/9559826ed657a8c8d65bd7f9367009603a21cfc3/base/linalg/special.jl#L89\" target=\"_blank\">linalg/special.jl:89</a><li> +(A::<b>Array{T,2}</b>,B::<b>Tridiagonal{T}</b>) at <a href=\"https://github.com/JuliaLang/julia/tree/9559826ed657a8c8d65bd7f9367009603a21cfc3/base/linalg/special.jl#L90\" target=\"_blank\">linalg/special.jl:90</a><li> +(A::<b>Triangular{T,S<:AbstractArray{T,2},UpLo,IsUnit}</b>,B::<b>Array{T,2}</b>) at <a href=\"https://github.com/JuliaLang/julia/tree/9559826ed657a8c8d65bd7f9367009603a21cfc3/base/linalg/special.jl#L89\" target=\"_blank\">linalg/special.jl:89</a><li> +(A::<b>Array{T,2}</b>,B::<b>Triangular{T,S<:AbstractArray{T,2},UpLo,IsUnit}</b>) at <a href=\"https://github.com/JuliaLang/julia/tree/9559826ed657a8c8d65bd7f9367009603a21cfc3/base/linalg/special.jl#L90\" target=\"_blank\">linalg/special.jl:90</a><li> +(A::<b>SymTridiagonal{T}</b>,B::<b>Triangular{T,S<:AbstractArray{T,2},UpLo,IsUnit}</b>) at <a href=\"https://github.com/JuliaLang/julia/tree/9559826ed657a8c8d65bd7f9367009603a21cfc3/base/linalg/special.jl#L98\" target=\"_blank\">linalg/special.jl:98</a><li> +(A::<b>Triangular{T,S<:AbstractArray{T,2},UpLo,IsUnit}</b>,B::<b>SymTridiagonal{T}</b>) at <a href=\"https://github.com/JuliaLang/julia/tree/9559826ed657a8c8d65bd7f9367009603a21cfc3/base/linalg/special.jl#L99\" target=\"_blank\">linalg/special.jl:99</a><li> +(A::<b>SymTridiagonal{T}</b>,B::<b>Array{T,2}</b>) at <a href=\"https://github.com/JuliaLang/julia/tree/9559826ed657a8c8d65bd7f9367009603a21cfc3/base/linalg/special.jl#L98\" target=\"_blank\">linalg/special.jl:98</a><li> +(A::<b>Array{T,2}</b>,B::<b>SymTridiagonal{T}</b>) at <a href=\"https://github.com/JuliaLang/julia/tree/9559826ed657a8c8d65bd7f9367009603a21cfc3/base/linalg/special.jl#L99\" target=\"_blank\">linalg/special.jl:99</a><li> +(A::<b>Diagonal{T}</b>,B::<b>SymTridiagonal{T}</b>) at <a href=\"https://github.com/JuliaLang/julia/tree/9559826ed657a8c8d65bd7f9367009603a21cfc3/base/linalg/special.jl#L107\" target=\"_blank\">linalg/special.jl:107</a><li> +(A::<b>SymTridiagonal{T}</b>,B::<b>Diagonal{T}</b>) at <a href=\"https://github.com/JuliaLang/julia/tree/9559826ed657a8c8d65bd7f9367009603a21cfc3/base/linalg/special.jl#L108\" target=\"_blank\">linalg/special.jl:108</a><li> +(A::<b>Bidiagonal{T}</b>,B::<b>SymTridiagonal{T}</b>) at <a href=\"https://github.com/JuliaLang/julia/tree/9559826ed657a8c8d65bd7f9367009603a21cfc3/base/linalg/special.jl#L107\" target=\"_blank\">linalg/special.jl:107</a><li> +(A::<b>SymTridiagonal{T}</b>,B::<b>Bidiagonal{T}</b>) at <a href=\"https://github.com/JuliaLang/julia/tree/9559826ed657a8c8d65bd7f9367009603a21cfc3/base/linalg/special.jl#L108\" target=\"_blank\">linalg/special.jl:108</a><li> +<i>{T<:Number}</i>(x::<b>AbstractArray{T<:Number,N}</b>) at <a href=\"https://github.com/JuliaLang/julia/tree/9559826ed657a8c8d65bd7f9367009603a21cfc3/base/abstractarray.jl#L362\" target=\"_blank\">abstractarray.jl:362</a><li> +(A::<b>AbstractArray{T,N}</b>,x::<b>Number</b>) at <a href=\"https://github.com/JuliaLang/julia/tree/9559826ed657a8c8d65bd7f9367009603a21cfc3/base/array.jl#L774\" target=\"_blank\">array.jl:774</a><li> +(x::<b>Number</b>,A::<b>AbstractArray{T,N}</b>) at <a href=\"https://github.com/JuliaLang/julia/tree/9559826ed657a8c8d65bd7f9367009603a21cfc3/base/array.jl#L775\" target=\"_blank\">array.jl:775</a><li> +(J1::<b>UniformScaling{T<:Number}</b>,J2::<b>UniformScaling{T<:Number}</b>) at <a href=\"https://github.com/JuliaLang/julia/tree/9559826ed657a8c8d65bd7f9367009603a21cfc3/base/linalg/uniformscaling.jl#L25\" target=\"_blank\">linalg/uniformscaling.jl:25</a><li> +(J::<b>UniformScaling{T<:Number}</b>,B::<b>BitArray{2}</b>) at <a href=\"https://github.com/JuliaLang/julia/tree/9559826ed657a8c8d65bd7f9367009603a21cfc3/base/linalg/uniformscaling.jl#L27\" target=\"_blank\">linalg/uniformscaling.jl:27</a><li> +(J::<b>UniformScaling{T<:Number}</b>,A::<b>AbstractArray{T,2}</b>) at <a href=\"https://github.com/JuliaLang/julia/tree/9559826ed657a8c8d65bd7f9367009603a21cfc3/base/linalg/uniformscaling.jl#L28\" target=\"_blank\">linalg/uniformscaling.jl:28</a><li> +(J::<b>UniformScaling{T<:Number}</b>,x::<b>Number</b>) at <a href=\"https://github.com/JuliaLang/julia/tree/9559826ed657a8c8d65bd7f9367009603a21cfc3/base/linalg/uniformscaling.jl#L29\" target=\"_blank\">linalg/uniformscaling.jl:29</a><li> +(x::<b>Number</b>,J::<b>UniformScaling{T<:Number}</b>) at <a href=\"https://github.com/JuliaLang/julia/tree/9559826ed657a8c8d65bd7f9367009603a21cfc3/base/linalg/uniformscaling.jl#L30\" target=\"_blank\">linalg/uniformscaling.jl:30</a><li> +<i>{TA,TJ}</i>(A::<b>AbstractArray{TA,2}</b>,J::<b>UniformScaling{TJ}</b>) at <a href=\"https://github.com/JuliaLang/julia/tree/9559826ed657a8c8d65bd7f9367009603a21cfc3/base/linalg/uniformscaling.jl#L33\" target=\"_blank\">linalg/uniformscaling.jl:33</a><li> +<i>{T}</i>(a::<b>HierarchicalValue{T}</b>,b::<b>HierarchicalValue{T}</b>) at <a href=\"https://github.com/JuliaLang/julia/tree/9559826ed657a8c8d65bd7f9367009603a21cfc3/base/pkg/resolve/versionweight.jl#L19\" target=\"_blank\">pkg/resolve/versionweight.jl:19</a><li> +(a::<b>VWPreBuildItem</b>,b::<b>VWPreBuildItem</b>) at <a href=\"https://github.com/JuliaLang/julia/tree/9559826ed657a8c8d65bd7f9367009603a21cfc3/base/pkg/resolve/versionweight.jl#L81\" target=\"_blank\">pkg/resolve/versionweight.jl:81</a><li> +(a::<b>VWPreBuild</b>,b::<b>VWPreBuild</b>) at <a href=\"https://github.com/JuliaLang/julia/tree/9559826ed657a8c8d65bd7f9367009603a21cfc3/base/pkg/resolve/versionweight.jl#L127\" target=\"_blank\">pkg/resolve/versionweight.jl:127</a><li> +(a::<b>VersionWeight</b>,b::<b>VersionWeight</b>) at <a href=\"https://github.com/JuliaLang/julia/tree/9559826ed657a8c8d65bd7f9367009603a21cfc3/base/pkg/resolve/versionweight.jl#L181\" target=\"_blank\">pkg/resolve/versionweight.jl:181</a><li> +(a::<b>FieldValue</b>,b::<b>FieldValue</b>) at <a href=\"https://github.com/JuliaLang/julia/tree/9559826ed657a8c8d65bd7f9367009603a21cfc3/base/pkg/resolve/fieldvalue.jl#L41\" target=\"_blank\">pkg/resolve/fieldvalue.jl:41</a><li> +(a::<b>Vec2</b>,b::<b>Vec2</b>) at <a href=\"https://github.com/JuliaLang/julia/tree/9559826ed657a8c8d65bd7f9367009603a21cfc3/base/graphics.jl#L60\" target=\"_blank\">graphics.jl:60</a><li> +(bb1::<b>BoundingBox</b>,bb2::<b>BoundingBox</b>) at <a href=\"https://github.com/JuliaLang/julia/tree/9559826ed657a8c8d65bd7f9367009603a21cfc3/base/graphics.jl#L123\" target=\"_blank\">graphics.jl:123</a><li> +(a,b,c) at <a href=\"https://github.com/JuliaLang/julia/tree/9559826ed657a8c8d65bd7f9367009603a21cfc3/base/operators.jl#L82\" target=\"_blank\">operators.jl:82</a><li> +(a,b,c,xs...) at <a href=\"https://github.com/JuliaLang/julia/tree/9559826ed657a8c8d65bd7f9367009603a21cfc3/base/operators.jl#L83\" target=\"_blank\">operators.jl:83</a></ul>"
      ],
      "text/plain": [
       "# 117 methods for generic function \"+\":\n",
       "+(x::Bool) at bool.jl:36\n",
       "+(x::Bool,y::Bool) at bool.jl:39\n",
       "+(y::FloatingPoint,x::Bool) at bool.jl:49\n",
       "+(A::BitArray{N},B::BitArray{N}) at bitarray.jl:848\n",
       "+(A::Union(SubArray{Bool,N,A<:DenseArray{T,N},I<:(Union(Int64,Range{Int64})...,)},DenseArray{Bool,N}),B::Union(SubArray{Bool,N,A<:DenseArray{T,N},I<:(Union(Int64,Range{Int64})...,)},DenseArray{Bool,N})) at array.jl:801\n",
       "+{S,T}(A::Union(DenseArray{S,N},SubArray{S,N,A<:DenseArray{T,N},I<:(Union(Int64,Range{Int64})...,)}),B::Union(DenseArray{T,N},SubArray{T,N,A<:DenseArray{T,N},I<:(Union(Int64,Range{Int64})...,)})) at array.jl:723\n",
       "+{T<:Union(Int16,Int32,Int8)}(x::T<:Union(Int16,Int32,Int8),y::T<:Union(Int16,Int32,Int8)) at int.jl:16\n",
       "+{T<:Union(Uint32,Uint16,Uint8)}(x::T<:Union(Uint32,Uint16,Uint8),y::T<:Union(Uint32,Uint16,Uint8)) at int.jl:20\n",
       "+(x::Int64,y::Int64) at int.jl:33\n",
       "+(x::Uint64,y::Uint64) at int.jl:34\n",
       "+(x::Int128,y::Int128) at int.jl:35\n",
       "+(x::Uint128,y::Uint128) at int.jl:36\n",
       "+(x::Float32,y::Float32) at float.jl:119\n",
       "+(x::Float64,y::Float64) at float.jl:120\n",
       "+(z::Complex{T<:Real},w::Complex{T<:Real}) at complex.jl:110\n",
       "+(x::Real,z::Complex{T<:Real}) at complex.jl:120\n",
       "+(z::Complex{T<:Real},x::Real) at complex.jl:121\n",
       "+(x::Rational{T<:Integer},y::Rational{T<:Integer}) at rational.jl:113\n",
       "+(x::Char,y::Char) at char.jl:23\n",
       "+(x::Char,y::Integer) at char.jl:26\n",
       "+(x::Integer,y::Char) at char.jl:27\n",
       "+(a::Float16,b::Float16) at float16.jl:132\n",
       "+(x::BigInt,y::BigInt) at gmp.jl:195\n",
       "+(a::BigInt,b::BigInt,c::BigInt) at gmp.jl:218\n",
       "+(a::BigInt,b::BigInt,c::BigInt,d::BigInt) at gmp.jl:224\n",
       "+(a::BigInt,b::BigInt,c::BigInt,d::BigInt,e::BigInt) at gmp.jl:231\n",
       "+(x::BigInt,c::Union(Uint32,Uint64,Uint16,Uint8)) at gmp.jl:243\n",
       "+(c::Union(Uint32,Uint64,Uint16,Uint8),x::BigInt) at gmp.jl:247\n",
       "+(x::BigInt,c::Union(Int16,Int64,Int32,Int8)) at gmp.jl:259\n",
       "+(c::Union(Int16,Int64,Int32,Int8),x::BigInt) at gmp.jl:260\n",
       "+(x::BigFloat,y::BigFloat) at mpfr.jl:149\n",
       "+(x::BigFloat,c::Union(Uint32,Uint64,Uint16,Uint8)) at mpfr.jl:156\n",
       "+(c::Union(Uint32,Uint64,Uint16,Uint8),x::BigFloat) at mpfr.jl:160\n",
       "+(x::BigFloat,c::Union(Int16,Int64,Int32,Int8)) at mpfr.jl:164\n",
       "+(c::Union(Int16,Int64,Int32,Int8),x::BigFloat) at mpfr.jl:168\n",
       "+(x::BigFloat,c::Union(Float32,Float16,Float64)) at mpfr.jl:172\n",
       "+(c::Union(Float32,Float16,Float64),x::BigFloat) at mpfr.jl:176\n",
       "+(x::BigFloat,c::BigInt) at mpfr.jl:180\n",
       "+(c::BigInt,x::BigFloat) at mpfr.jl:184\n",
       "+(a::BigFloat,b::BigFloat,c::BigFloat) at mpfr.jl:255\n",
       "+(a::BigFloat,b::BigFloat,c::BigFloat,d::BigFloat) at mpfr.jl:261\n",
       "+(a::BigFloat,b::BigFloat,c::BigFloat,d::BigFloat,e::BigFloat) at mpfr.jl:268\n",
       "+(x::MathConst{sym},y::MathConst{sym}) at constants.jl:23\n",
       "+{T<:Number}(x::T<:Number,y::T<:Number) at promotion.jl:188\n",
       "+{T<:FloatingPoint}(x::Bool,y::T<:FloatingPoint) at bool.jl:46\n",
       "+(x::Number,y::Number) at promotion.jl:158\n",
       "+(x::Integer,y::Ptr{T}) at pointer.jl:68\n",
       "+(x::Bool,A::AbstractArray{Bool,N}) at array.jl:771\n",
       "+(x::Number) at operators.jl:71\n",
       "+(r1::OrdinalRange{T,S},r2::OrdinalRange{T,S}) at operators.jl:325\n",
       "+{T<:FloatingPoint}(r1::FloatRange{T<:FloatingPoint},r2::FloatRange{T<:FloatingPoint}) at operators.jl:331\n",
       "+(r1::FloatRange{T<:FloatingPoint},r2::FloatRange{T<:FloatingPoint}) at operators.jl:348\n",
       "+(r1::FloatRange{T<:FloatingPoint},r2::OrdinalRange{T,S}) at operators.jl:349\n",
       "+(r1::OrdinalRange{T,S},r2::FloatRange{T<:FloatingPoint}) at operators.jl:350\n",
       "+(x::Ptr{T},y::Integer) at pointer.jl:66\n",
       "+{S,T<:Real}(A::Union(DenseArray{S,N},SubArray{S,N,A<:DenseArray{T,N},I<:(Union(Int64,Range{Int64})...,)}),B::Range{T<:Real}) at array.jl:731\n",
       "+{S<:Real,T}(A::Range{S<:Real},B::Union(DenseArray{T,N},SubArray{T,N,A<:DenseArray{T,N},I<:(Union(Int64,Range{Int64})...,)})) at array.jl:740\n",
       "+(A::AbstractArray{Bool,N},x::Bool) at array.jl:770\n",
       "+{Tv,Ti}(A::SparseMatrixCSC{Tv,Ti},B::SparseMatrixCSC{Tv,Ti}) at sparse/sparsematrix.jl:552\n",
       "+{TvA,TiA,TvB,TiB}(A::SparseMatrixCSC{TvA,TiA},B::SparseMatrixCSC{TvB,TiB}) at sparse/sparsematrix.jl:544\n",
       "+(A::SparseMatrixCSC{Tv,Ti<:Integer},B::Array{T,N}) at sparse/sparsematrix.jl:643\n",
       "+(A::Array{T,N},B::SparseMatrixCSC{Tv,Ti<:Integer}) at sparse/sparsematrix.jl:645\n",
       "+(A::SymTridiagonal{T},B::SymTridiagonal{T}) at linalg/tridiag.jl:57\n",
       "+(A::Tridiagonal{T},B::Tridiagonal{T}) at linalg/tridiag.jl:247\n",
       "+(A::Tridiagonal{T},B::SymTridiagonal{T}) at linalg/special.jl:99\n",
       "+(A::SymTridiagonal{T},B::Tridiagonal{T}) at linalg/special.jl:98\n",
       "+{T,MT,uplo}(A::Triangular{T,MT,uplo,IsUnit},B::Triangular{T,MT,uplo,IsUnit}) at linalg/triangular.jl:11\n",
       "+{T,MT,uplo1,uplo2}(A::Triangular{T,MT,uplo1,IsUnit},B::Triangular{T,MT,uplo2,IsUnit}) at linalg/triangular.jl:12\n",
       "+(Da::Diagonal{T},Db::Diagonal{T}) at linalg/diagonal.jl:47\n",
       "+(A::Bidiagonal{T},B::Bidiagonal{T}) at linalg/bidiag.jl:92\n",
       "+{T}(B::BitArray{2},J::UniformScaling{T}) at linalg/uniformscaling.jl:26\n",
       "+(A::Diagonal{T},B::Bidiagonal{T}) at linalg/special.jl:89\n",
       "+(A::Bidiagonal{T},B::Diagonal{T}) at linalg/special.jl:90\n",
       "+(A::Diagonal{T},B::Tridiagonal{T}) at linalg/special.jl:89\n",
       "+(A::Tridiagonal{T},B::Diagonal{T}) at linalg/special.jl:90\n",
       "+(A::Diagonal{T},B::Triangular{T,S<:AbstractArray{T,2},UpLo,IsUnit}) at linalg/special.jl:89\n",
       "+(A::Triangular{T,S<:AbstractArray{T,2},UpLo,IsUnit},B::Diagonal{T}) at linalg/special.jl:90\n",
       "+(A::Diagonal{T},B::Array{T,2}) at linalg/special.jl:89\n",
       "+(A::Array{T,2},B::Diagonal{T}) at linalg/special.jl:90\n",
       "+(A::Bidiagonal{T},B::Tridiagonal{T}) at linalg/special.jl:89\n",
       "+(A::Tridiagonal{T},B::Bidiagonal{T}) at linalg/special.jl:90\n",
       "+(A::Bidiagonal{T},B::Triangular{T,S<:AbstractArray{T,2},UpLo,IsUnit}) at linalg/special.jl:89\n",
       "+(A::Triangular{T,S<:AbstractArray{T,2},UpLo,IsUnit},B::Bidiagonal{T}) at linalg/special.jl:90\n",
       "+(A::Bidiagonal{T},B::Array{T,2}) at linalg/special.jl:89\n",
       "+(A::Array{T,2},B::Bidiagonal{T}) at linalg/special.jl:90\n",
       "+(A::Tridiagonal{T},B::Triangular{T,S<:AbstractArray{T,2},UpLo,IsUnit}) at linalg/special.jl:89\n",
       "+(A::Triangular{T,S<:AbstractArray{T,2},UpLo,IsUnit},B::Tridiagonal{T}) at linalg/special.jl:90\n",
       "+(A::Tridiagonal{T},B::Array{T,2}) at linalg/special.jl:89\n",
       "+(A::Array{T,2},B::Tridiagonal{T}) at linalg/special.jl:90\n",
       "+(A::Triangular{T,S<:AbstractArray{T,2},UpLo,IsUnit},B::Array{T,2}) at linalg/special.jl:89\n",
       "+(A::Array{T,2},B::Triangular{T,S<:AbstractArray{T,2},UpLo,IsUnit}) at linalg/special.jl:90\n",
       "+(A::SymTridiagonal{T},B::Triangular{T,S<:AbstractArray{T,2},UpLo,IsUnit}) at linalg/special.jl:98\n",
       "+(A::Triangular{T,S<:AbstractArray{T,2},UpLo,IsUnit},B::SymTridiagonal{T}) at linalg/special.jl:99\n",
       "+(A::SymTridiagonal{T},B::Array{T,2}) at linalg/special.jl:98\n",
       "+(A::Array{T,2},B::SymTridiagonal{T}) at linalg/special.jl:99\n",
       "+(A::Diagonal{T},B::SymTridiagonal{T}) at linalg/special.jl:107\n",
       "+(A::SymTridiagonal{T},B::Diagonal{T}) at linalg/special.jl:108\n",
       "+(A::Bidiagonal{T},B::SymTridiagonal{T}) at linalg/special.jl:107\n",
       "+(A::SymTridiagonal{T},B::Bidiagonal{T}) at linalg/special.jl:108\n",
       "+{T<:Number}(x::AbstractArray{T<:Number,N}) at abstractarray.jl:362\n",
       "+(A::AbstractArray{T,N},x::Number) at array.jl:774\n",
       "+(x::Number,A::AbstractArray{T,N}) at array.jl:775\n",
       "+(J1::UniformScaling{T<:Number},J2::UniformScaling{T<:Number}) at linalg/uniformscaling.jl:25\n",
       "+(J::UniformScaling{T<:Number},B::BitArray{2}) at linalg/uniformscaling.jl:27\n",
       "+(J::UniformScaling{T<:Number},A::AbstractArray{T,2}) at linalg/uniformscaling.jl:28\n",
       "+(J::UniformScaling{T<:Number},x::Number) at linalg/uniformscaling.jl:29\n",
       "+(x::Number,J::UniformScaling{T<:Number}) at linalg/uniformscaling.jl:30\n",
       "+{TA,TJ}(A::AbstractArray{TA,2},J::UniformScaling{TJ}) at linalg/uniformscaling.jl:33\n",
       "+{T}(a::HierarchicalValue{T},b::HierarchicalValue{T}) at pkg/resolve/versionweight.jl:19\n",
       "+(a::VWPreBuildItem,b::VWPreBuildItem) at pkg/resolve/versionweight.jl:81\n",
       "+(a::VWPreBuild,b::VWPreBuild) at pkg/resolve/versionweight.jl:127\n",
       "+(a::VersionWeight,b::VersionWeight) at pkg/resolve/versionweight.jl:181\n",
       "+(a::FieldValue,b::FieldValue) at pkg/resolve/fieldvalue.jl:41\n",
       "+(a::Vec2,b::Vec2) at graphics.jl:60\n",
       "+(bb1::BoundingBox,bb2::BoundingBox) at graphics.jl:123\n",
       "+(a,b,c) at operators.jl:82\n",
       "+(a,b,c,xs...) at operators.jl:83"
      ]
     },
     "execution_count": 4,
     "metadata": {},
     "output_type": "execute_result"
    }
   ],
   "source": [
    "methods(+)"
   ]
  },
  {
   "cell_type": "markdown",
   "metadata": {},
   "source": [
    "These methods are the different \"versions\" of `+`, distinguished by the *types of their arguments*, as denoted by the *type annotations* with `::`. Julia thus allows us to define a different method for any unique combination (tuple) of argument types, and picks the correct one to choose based on this. The \"meaning\" in all the cases should be the same -- in this case, addition. This meaning emerges out of a patchwork of different definitions that are suitable for different use cases. For example, the definition of `+` for the sum of two matrices may use the definition of `+` for two `Float64`s, which is in turn defined in terms of \"LLVM intrinsics\".\n",
    "\n",
    "[Note that when using IJulia or Juno, a link is provided that takes us directly to the line in the Julia source code at which the given method is defined.]\n",
    "\n",
    "Of course, this (whether a particular method \"belongs\" in a particular generic function) is sometimes ambiguous. For example, many languages use the `+` operator for string concatenation (i.e. making a single string by placing one string after another)."
   ]
  },
  {
   "cell_type": "markdown",
   "metadata": {},
   "source": [
    "[1] Try to add two strings. What happens?"
   ]
  },
  {
   "cell_type": "markdown",
   "metadata": {},
   "source": [
    "The designers of Julia decided that strings would be concatenated with `*` instead of `+`. [Basically this was due to the commutativity of `+` and the non-commutativity of `*`.\n",
    "In fact, a better solution is to use the `string` function.]\n",
    "\n",
    "[2] Try using `*` and using the `string` function. In what sense is the latter more useful?"
   ]
  },
  {
   "cell_type": "markdown",
   "metadata": {},
   "source": [
    "However, on the Julia users mailing list and in Julia issues there are (very) long discussions about the wisdom or correctness of this decision. In many languages, this could represent a fundamental stumbling block, since methods are usually defined inside classes. In Julia, however, methods are defined *outside* the objects that they act on.\n",
    "\n",
    "We can, in fact, ourselves very easily *define* `+` to act on two strings:"
   ]
  },
  {
   "cell_type": "markdown",
   "metadata": {},
   "source": [
    "[3] Define `+` acting on two strings, following the pattern of the methods that are already defined. Check using `methods` that it is defined, and check that it works."
   ]
  },
  {
   "cell_type": "markdown",
   "metadata": {},
   "source": [
    "[4] Define a method of the function `my_abs` for real numbers, and a method for complex numbers.\n",
    "\n",
    "[5] Define a function `f` that gives `a + b` for numbers and strings, and `a - b` for floating point numbers. Note that this is really *not* a good idea in general!"
   ]
  },
  {
   "cell_type": "markdown",
   "metadata": {},
   "source": [
    "This approach (selecting a method based on the types of its arguments) turns out to be very natural and very powerful. It receives the name **multiple dispatch**, \"dispatch\" being the action of selecting which function to call. Julia is one of very few languages to allow this in such generality."
   ]
  }
 ],
 "metadata": {
  "kernelspec": {
   "display_name": "Julia 0.3.9-pre",
   "language": "julia",
   "name": "julia-0.3"
  },
  "language_info": {
   "name": "julia",
   "version": "0.3.10"
  }
 },
 "nbformat": 4,
 "nbformat_minor": 0
}

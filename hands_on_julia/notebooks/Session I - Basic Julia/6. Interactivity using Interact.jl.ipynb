{
 "cells": [
  {
   "cell_type": "markdown",
   "metadata": {},
   "source": [
    "# Interactivity in IJulia using `Interact.jl`"
   ]
  },
  {
   "cell_type": "markdown",
   "metadata": {},
   "source": [
    "The `Interact.jl` package makes Jupyter's interactive widget functionality available from Julia."
   ]
  },
  {
   "cell_type": "markdown",
   "metadata": {},
   "source": [
    "[1] Add the `Interact.jl` package and load it. If you have IPython 3, you will need to checkout the `git` master branch of the package with"
   ]
  },
  {
   "cell_type": "code",
   "execution_count": 5,
   "metadata": {
    "collapsed": false
   },
   "outputs": [
    {
     "name": "stderr",
     "output_type": "stream",
     "text": [
      "INFO: Checking out Interact master...\n",
      "INFO: Pulling Interact latest master...\n",
      "INFO: No packages to install, update or remove\n"
     ]
    }
   ],
   "source": [
    "Pkg.checkout(\"Interact\")"
   ]
  },
  {
   "cell_type": "markdown",
   "metadata": {},
   "source": [
    "The syntax to use widgets is to start with a `for` loop (that loops over the values of the variables that you would like to allow in the widgets) and wrap it in a `@manipulate` macro:"
   ]
  },
  {
   "cell_type": "markdown",
   "metadata": {},
   "source": [
    "[2] Write a simple `for` loop that evaluates the square of the loop counter, and wrap it in `@manipulate`.\n",
    "A widget should appear that enables you to interactively move a slider to change the displayed value.\n",
    "\n",
    "[3] Use the `html` function (part of `Interact.jl`) to display repeated text, where the number of repetitions depends on the loop argument.\n",
    "\n",
    "[4] Use a double `for` loop to get two sliders."
   ]
  },
  {
   "cell_type": "markdown",
   "metadata": {},
   "source": [
    "`Interact.jl` should work with `Gadfly` without further changes.\n",
    "\n",
    "To use `PyPlot`, it is necessary to first define a `figure` object with\n",
    "\n",
    "    f = figure()\n",
    "\n",
    "and then use the `withfig` function as\n",
    "\n",
    "    withfig(f) do\n",
    "        ...\n",
    "    end\n",
    "    \n",
    "inside the `@manipulate`d `for` loop.\n"
   ]
  },
  {
   "cell_type": "markdown",
   "metadata": {},
   "source": [
    "[5] Make an interactive visualisation of a quadratic fucntion, in which you can manipulate all of the coefficients.\n",
    "\n",
    "[6] Make an interactive visualisation of a ball moving "
   ]
  }
 ],
 "metadata": {
  "kernelspec": {
   "display_name": "Julia 0.3.8-pre",
   "language": "julia",
   "name": "julia 0.3"
  },
  "language_info": {
   "name": "julia",
   "version": "0.3.10"
  }
 },
 "nbformat": 4,
 "nbformat_minor": 0
}

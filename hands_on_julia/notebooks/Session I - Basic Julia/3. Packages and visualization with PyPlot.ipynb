{
 "cells": [
  {
   "cell_type": "markdown",
   "metadata": {},
   "source": [
    "## The Julia package manager, `Pkg` "
   ]
  },
  {
   "cell_type": "markdown",
   "metadata": {},
   "source": [
    "Julia has a built-in package manager module, called `Pkg`;\n",
    "Julia packages are [`git`](https://git-scm.com/) repositories.\n",
    "\n",
    "The package called [`Distributions.jl`](), for example, is added with \n",
    "\n",
    "    Pkg.add(\"Distributions\")   # no .jl \n",
    "    \n",
    "and \"removed\" (although not completely deleted) with \n",
    "\n",
    "    Pkg.rm(\"Distributions\")\n",
    "    \n",
    "[The package manager actually provides a dependency solver that determines which packages are actually required to be installed.]\n",
    "\n",
    "\n",
    "The package ecosystem is rapidly maturing; a complete list of *registered* packages (which are required to have a certain level of testing and documentation) is available at <http://pkg.julialang.org/>. Non-registered packages are added by cloning the relevant git repository; `Pkg` again provides an interface for this operation:"
   ]
  },
  {
   "cell_type": "markdown",
   "metadata": {},
   "source": [
    "A package need only be `add`ed once, at which point it is downloaded into your local `.julia` directory in your home directory, in a subdirectory `v0.3` or `v0.4`, depending on your Julia version. [If you start having problems with packages that seem to be unsolvable, you can try just deleting your `.julia` directory and reinstalling all your packages.]\n",
    "\n",
    "Periodically, you should run\n",
    "\n",
    "    Pkg.update()\n",
    "    \n",
    "which (currently) checks for, downloads and installs updated versions of *all* the packages you currently have installed."
   ]
  },
  {
   "cell_type": "markdown",
   "metadata": {},
   "source": [
    "## `using` "
   ]
  },
  {
   "cell_type": "markdown",
   "metadata": {},
   "source": [
    "Packages provide Julia *modules*, which are not loaded by default. To load a package, do e.g.\n",
    "\n",
    "    using Distributions\n",
    "    \n",
    "This pulls all of the *exported* functions in the module into your local namespace, as you can check using the `whos()` command.\n",
    "\n",
    "An alternative is\n",
    "\n",
    "    import Distributions\n",
    "    \n",
    "Now, the functions from the `Distributions` package are available only using `Distributions.<NAME>`. (All functions, not only exported functions, are always available like this.)"
   ]
  },
  {
   "cell_type": "markdown",
   "metadata": {},
   "source": [
    "# PyPlot "
   ]
  },
  {
   "cell_type": "markdown",
   "metadata": {},
   "source": [
    "`PyPlot` is a Julia *package* (library) for publication-quality plots, mainly in 2D (although with limited support for simple 3D plots).\n",
    "\n",
    "It is a Julian interface to the `pyplot` module of the Python `matplotlib` library, which is a well-known and mature plotting library for Python. It provides a direct plotting style where features of plots are turned on and off through independent commands; complicated plots [may be created](http://matplotlib.org/gallery.html). All of the functions from the `pyplot` module are made available directly, and the interface between Julian objects and the corresponding Python types is transparent (using the `PyCall.jl` module)."
   ]
  },
  {
   "cell_type": "markdown",
   "metadata": {},
   "source": [
    "[1] Add the PyPlot package and load it. Examine the list of available functions using tab completion."
   ]
  },
  {
   "cell_type": "markdown",
   "metadata": {},
   "source": [
    "[2] Make some random data for $x$ and $y$ coordinates of the same length and store them in variables `xx` and `yy`. Plot them using\n",
    "\n",
    "    plot(xx, yy, \"o\")\n",
    "    \n",
    "The \"o\" string is used to change the plotting style to points.\n",
    "\n",
    "[3] What happens if you remove the \"o\" string? What happens if you just do `plot(xx)`?"
   ]
  },
  {
   "cell_type": "markdown",
   "metadata": {},
   "source": [
    "PyPlot is designed for plotting data (as opposed to functions). In order to plot functions, we must sample them appropriately."
   ]
  },
  {
   "cell_type": "markdown",
   "metadata": {},
   "source": [
    "[4] Create an array (or other object) `xx` of numbers equally spaced from -3 to 3 and a small step.\n",
    "Create an array `yy` given by $3x^2 - 2$. Draw the function.\n",
    "\n",
    "[5] Use the help [`?plot` o `help(plot)`] to change the style of the plot to use red lines and green points.\n",
    "Look up (or ask your neighbour) para cambiar el estilo de la gráfica para utilizar líneas rojas y puntos verdes."
   ]
  },
  {
   "cell_type": "markdown",
   "metadata": {
    "collapsed": true
   },
   "source": [
    "## Exercise: The Newton fractal "
   ]
  },
  {
   "cell_type": "markdown",
   "metadata": {
    "collapsed": true
   },
   "source": [
    "The (1D) Newton (or Newton-Raphson) method finds roots (zeros) of a nonlinear function $f$ of one variable. It is an iterative method defined by\n",
    "\n",
    "$$ x_{n+1} = x_n - \\frac{f(x_n)}{f'(x_n)} $$\n",
    "\n",
    "[1] Implement the Newton method to find roots of a function $f$. Use it to find square roots of $2$. [You can use Unicode to define a variable with the name $f'$ by writing `f\\prime<TAB>`.] \n",
    "\n",
    "Note that functions are **first-class objects** in Julia, i.e. you can use functions anywhere you would use other types of variables.\n",
    "\n",
    "[2] Use the Newton method to find complex cube roots of $1$. Starting from a grid of initial conditions $x_0$, determine which of the roots each reaches. (Put a bound on the maximum time allowed.) Store the results in a matrix.\n",
    "\n",
    "[3] Plot the resulting matrix using the `imshow`, `pcolor` and/or `pcolormesh` from `PyPlot`.\n",
    "\n",
    "[4] Experiment with different complex functions, e.g. other polynomials and `sin`."
   ]
  }
 ],
 "metadata": {
  "kernelspec": {
   "display_name": "Julia 0.3.9-pre",
   "language": "julia",
   "name": "julia-0.3"
  },
  "language_info": {
   "name": "julia",
   "version": "0.3.10"
  }
 },
 "nbformat": 4,
 "nbformat_minor": 0
}

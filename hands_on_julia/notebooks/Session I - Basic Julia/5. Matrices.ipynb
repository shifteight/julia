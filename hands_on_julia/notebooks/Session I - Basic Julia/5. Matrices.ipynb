{
 "cells": [
  {
   "cell_type": "markdown",
   "metadata": {},
   "source": [
    "# Matrices "
   ]
  },
  {
   "cell_type": "markdown",
   "metadata": {},
   "source": [
    "Many scientific calculations make heavy use of matrices. Julia has excellent support for matrices, including special classes, and interfaces to standard linear algebra libraries."
   ]
  },
  {
   "cell_type": "markdown",
   "metadata": {},
   "source": [
    "Matrices can be defined by hand, or using one of many functions for constructing matrices. To define matrices by hand, the following notation is used:"
   ]
  },
  {
   "cell_type": "code",
   "execution_count": null,
   "metadata": {
    "collapsed": false
   },
   "outputs": [],
   "source": [
    "A = [1 2; 3 4]"
   ]
  },
  {
   "cell_type": "markdown",
   "metadata": {},
   "source": [
    "The spaces separate consecutive elements in the same row; the semicolons separate different rows."
   ]
  },
  {
   "cell_type": "markdown",
   "metadata": {},
   "source": [
    "[1] What is the type of `A`? What information is thus stored in the type of an array (comparing the types of a matrix and a vector)?\n",
    "\n",
    "[2] What does `R = [1 2]` do?\n",
    "\n",
    "[3] Define another $2 \\times 2$ matrix `B` and experiment with matrix operations.\n",
    "\n",
    "[4] How can we construct a matrix by dividing element by element the elements of `A` by those of `B`? \n",
    "\n",
    "[5] Experiment with different ways of constructing matrices: `zeros`, `ones`, `eye`, `diag`. Use the help function if necessary.\n",
    "\n",
    "Matrix-vector and matrix-matrix multiplication uses the `*` operator. \n",
    "\n",
    "[6] Check that `*` is matrix-matrix multiplication. How is element-by-element multiplication done?"
   ]
  },
  {
   "cell_type": "markdown",
   "metadata": {},
   "source": [
    "Matrices may also be constructed using array comprehensions, by using a double `for` loop of the type\n",
    "\n",
    "    for x in 1:10, y in 1:10\n",
    "        ...\n",
    "    end\n",
    "    \n",
    "[7] Construct a matrix $M$ whose $(i,j)$th element is $i+j$."
   ]
  },
  {
   "cell_type": "markdown",
   "metadata": {},
   "source": [
    "## Exercise: Calculating the largest eigenvalue of a matrix"
   ]
  },
  {
   "cell_type": "markdown",
   "metadata": {},
   "source": [
    "In this exercise, we shall use a simple method, the *power method*, to calculate the largest eigenvalue $\\lambda_1$ of a matrix.\n",
    "\n",
    "[\n",
    "Recall that $\\lambda$ is an *eigenvalue* of the matrix $\\mathsf{M}$ with corresponding *eigenvector* $\\mathbf{v}$ if\n",
    "\n",
    "$$ \\mathsf{M} \\cdot \\mathbf{v} = \\lambda \\mathbf{v}, $$\n",
    "\n",
    "i.e. if the direction of $\\mathbf{v}$ remains unchanged when acted on by $\\mathsf{M}$.\n",
    "]\n",
    "\n",
    "The power method consists of simply multiplying an arbitrary (non-zero) initial vector $\\mathbf{v}_0$ by $\\mathsf{M}$ many times:\n",
    "\n",
    "$$\\mathbf{v}_{n+1} := \\mathsf{M} \\cdot \\mathbf{v}_n$$.\n",
    "\n",
    "[1] Implement the power method to calculate the largest eigenvalue $\\lambda_1$ of a given matrix. What happens? How can we fix this?\n",
    "\n",
    "[2] How can we find the corresponding eigenvector?\n",
    "\n",
    "`**` [3] Can this be extended to find several eigenvectors? (Suppose that the matrix is *symmetric* and that the eigenvectors are thus *orthogonal* with respect to the standard scalar product.)"
   ]
  },
  {
   "cell_type": "markdown",
   "metadata": {},
   "source": [
    "## Linear algebra"
   ]
  },
  {
   "cell_type": "markdown",
   "metadata": {},
   "source": [
    "Julia provides a simple interface to standard LAPACK routines.\n",
    "\n",
    "[4] Guess the names for calculating the determinant, inverse, and eigenvalues/vectors. (Use tab completion.)\n",
    "What format are the eigenvectors returned in?"
   ]
  },
  {
   "cell_type": "markdown",
   "metadata": {},
   "source": [
    "The notation for solving the system of linear equations $\\mathsf{M} \\cdot \\mathbf{x} = \\mathbf{c}$ for the unknown variables $\\mathbf{x}$ is \n",
    "\n",
    "    M \\ b"
   ]
  },
  {
   "cell_type": "markdown",
   "metadata": {},
   "source": [
    "## Exercise: Distribution of eigenvalues of a random matrix"
   ]
  },
  {
   "cell_type": "markdown",
   "metadata": {},
   "source": [
    "Random matrices are important in several branches of mathematics and physics. Let's calculate a few properties of their eigenvalues."
   ]
  },
  {
   "cell_type": "markdown",
   "metadata": {},
   "source": [
    "[1] Create a random matrix `M` of samples from a Gaussian / normal distribution using `randn`.\n",
    "\n",
    "[2] Make a symmetric version of the matrix using `Symmetric`. What is the type of the resulting object? Check using a small matrix exactly what it does.\n",
    "\n",
    "[3] Calculate all eigenvalues of `M`, normalize them by and store them in a variable `lamb`. \n",
    "\n",
    "[4] Plot `lamb`. Now make a histogram.\n",
    "\n",
    "[5] Repeat the eigenvalue calculation with different realizations of the disorder, and include all of the results in the histogram to improve the statistics.\n",
    "\n",
    "[6] Calculate differences between successive eigenvalues, and normalise the result by its mean. To this several times to improve the statistics, and compare the histogram of the result with the known density function,\n",
    "\n",
    "$$f(s) = \\frac{\\pi}{2} \\, s \\, e^{-\\pi s^2/4}.$$\n",
    "\n",
    "[7] Install the [`KernelDensity`](https://github.com/JuliaStats/KernelDensity.jl) package and use kernel density estimation instead."
   ]
  }
 ],
 "metadata": {
  "kernelspec": {
   "display_name": "Julia 0.3.9-pre",
   "language": "julia",
   "name": "julia-0.3"
  },
  "language_info": {
   "name": "julia",
   "version": "0.3.10"
  }
 },
 "nbformat": 4,
 "nbformat_minor": 0
}

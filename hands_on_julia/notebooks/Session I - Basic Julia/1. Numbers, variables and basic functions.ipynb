{
 "cells": [
  {
   "cell_type": "markdown",
   "metadata": {},
   "source": [
    "# Numbers and arithmetic"
   ]
  },
  {
   "cell_type": "markdown",
   "metadata": {},
   "source": [
    "For scientific computing, we must begin with representing numbers in Julia. We can exploit the *interactivity* of Julia to quickly explore how Julia \"sees the world\"."
   ]
  },
  {
   "cell_type": "markdown",
   "metadata": {},
   "source": [
    "## Integers, $\\mathbb{Z}$"
   ]
  },
  {
   "cell_type": "markdown",
   "metadata": {},
   "source": [
    "[1] Type different types of integers and try different operations with them. What does `3/4` do?\n",
    "What about `3**4`? [Use `shift-return` to execute the current cell in IJulia.]\n",
    "\n",
    "[2] Calculate powers of 10. What happens?"
   ]
  },
  {
   "cell_type": "markdown",
   "metadata": {},
   "source": [
    "Types are crucial in Julia (although we often do not need to mention them explicitly).\n",
    "The function `typeof` tells us what type an object is:"
   ]
  },
  {
   "cell_type": "code",
   "execution_count": null,
   "metadata": {
    "collapsed": false
   },
   "outputs": [],
   "source": [
    "typeof(10)"
   ]
  },
  {
   "cell_type": "markdown",
   "metadata": {},
   "source": [
    "Note that functions in Julia take argument lists inside parentheses, '`(`' y '`)`'."
   ]
  },
  {
   "cell_type": "markdown",
   "metadata": {},
   "source": [
    "We can use arbitrary-precision arithmetic using the `big` function."
   ]
  },
  {
   "cell_type": "markdown",
   "metadata": {},
   "source": [
    "[3] Calculate powers of 10 with arbitrary precision. What happens if you do `big(10^20)`? Why?\n",
    "\n",
    "[4] Calculate $2^{2^{2^{2^2}}}$ with normal arithmetic and in arbitrary precision.\n",
    "\n",
    "[5] Use the `string` function to convert the previous result (called `ans`) into a string. How could we calculate the number of digits in the number? [Hint: try typing the first few letters of a function and use `<TAB>` to find possible completions.]"
   ]
  },
  {
   "cell_type": "markdown",
   "metadata": {},
   "source": [
    "## Rationals, $\\mathbb{Q}$"
   ]
  },
  {
   "cell_type": "markdown",
   "metadata": {},
   "source": [
    "There is a built-in rational type in the Julia standard library. Rationals are constructed using the `//` operator."
   ]
  },
  {
   "cell_type": "markdown",
   "metadata": {},
   "source": [
    "[1] Calculate $\\frac{3}{4} + \\frac{5}{6}$.\n",
    "\n",
    "[2] Calculate powers of $\\frac{3}{4}$. What happens? What is the solution? What is the type of the resulting objects?"
   ]
  },
  {
   "cell_type": "markdown",
   "metadata": {},
   "source": [
    "## Reals, $\\mathbb{R}$"
   ]
  },
  {
   "cell_type": "markdown",
   "metadata": {},
   "source": [
    "Real numbers are approximated by floating-point numbers. Julia has several different floating-point types available, whose names start with `Float`. "
   ]
  },
  {
   "cell_type": "markdown",
   "metadata": {},
   "source": [
    "[1] Use tab completion to find the available floating-point types. "
   ]
  },
  {
   "cell_type": "markdown",
   "metadata": {},
   "source": [
    "[1] ¿Cómo se escriben números flotantes (con decimal) en Julia? ¿De qué tipo son?\n",
    "\n",
    "[2] What happens when we calculate $2.3 \\times 4.6$?\n",
    "\n",
    "[3] What type is the answer? (This tells us the default floating-point type.)\n",
    "\n",
    "[4] Use the `bits` function to examine the internal representation of `2.3`. "
   ]
  },
  {
   "cell_type": "markdown",
   "metadata": {},
   "source": [
    "\"Scientific notation\" may be used for large and small numbers, e.g. `1.3e100`."
   ]
  },
  {
   "cell_type": "markdown",
   "metadata": {},
   "source": [
    "Julia has built-in support for arbitrary-precision floating-point numbers:"
   ]
  },
  {
   "cell_type": "markdown",
   "metadata": {},
   "source": [
    "[5] What happens if we do `big(0.1)`? What is the resulting type? Why is the answer strange?"
   ]
  },
  {
   "cell_type": "markdown",
   "metadata": {},
   "source": [
    "[6] Change to a larger precision using `set_bigfloat_precision`. [Note that help is available on functions using `?NAME`, where `NAME` is the name of the function.] Make a more precise $0.1$ using `BigFloat(\"0.1\")`.  [In Julia 0.4, this may be written `big\"0.1\"`.] What happens? Why? Does it help to further increase the precision?"
   ]
  },
  {
   "cell_type": "markdown",
   "metadata": {},
   "source": [
    "## Complex numbers, $\\mathbb{C}$"
   ]
  },
  {
   "cell_type": "markdown",
   "metadata": {},
   "source": [
    "Julia also has built-in support for complex numbers. The imaginary unit, $i = \\sqrt{-1}$, is denoted by `im` in Julia. "
   ]
  },
  {
   "cell_type": "markdown",
   "metadata": {},
   "source": [
    "[1] Check that Julia knows that $i^2 = -1$.\n",
    "\n",
    "[2] How are complex numbers written? What is the type of a complex number formed with integers? With reals? With rationals? This starts to tell us how Julia's types work.\n",
    "\n",
    "[3] Guess the name of the function to calculate the complex conjugate. Use it to calculate the absolute value of $3 + 4i$. Check it against the absolute value function."
   ]
  },
  {
   "cell_type": "markdown",
   "metadata": {},
   "source": [
    "# Variables "
   ]
  },
  {
   "cell_type": "markdown",
   "metadata": {},
   "source": [
    "Variables in Julia are defined directly using the assignment operator. No type declaration is necessary."
   ]
  },
  {
   "cell_type": "code",
   "execution_count": null,
   "metadata": {
    "collapsed": false
   },
   "outputs": [],
   "source": [
    "x = 3"
   ]
  },
  {
   "cell_type": "markdown",
   "metadata": {},
   "source": [
    "[1] `x` has a type, that is assigned automatically. What is its type? Can it change type?"
   ]
  },
  {
   "cell_type": "markdown",
   "metadata": {},
   "source": [
    "[2] Declare a constant `xx` using `const`? What happens if you try to change its value?"
   ]
  },
  {
   "cell_type": "markdown",
   "metadata": {},
   "source": [
    "Variable names can contain any Unicode character (although the first letter of the variable name is restricted to be letter-like). Julia allows many useful Unicode characters to be typed using LaTeX notation: type  `\\alpha<TAB>`.  You can type `\\alp` and then type `<TAB>` to see possible completions."
   ]
  },
  {
   "cell_type": "code",
   "execution_count": null,
   "metadata": {
    "collapsed": false
   },
   "outputs": [],
   "source": [
    "α = 3; ℵ = 10"
   ]
  },
  {
   "cell_type": "markdown",
   "metadata": {},
   "source": [
    "Note that statements on the same line may be separated using semicolons."
   ]
  },
  {
   "cell_type": "markdown",
   "metadata": {},
   "source": [
    "[3] Define two string variables, one that consists of only ASCII (i.e., \"normal\") characters, and the other that contains Unicode (e.g. accented characters, Greek letters, etc.). What types are these variables?"
   ]
  },
  {
   "cell_type": "markdown",
   "metadata": {},
   "source": [
    "The `print` function displays its arguments; `println` also adds a new line."
   ]
  },
  {
   "cell_type": "markdown",
   "metadata": {},
   "source": [
    "[4] Print a user-friendly phrase giving the value of α."
   ]
  },
  {
   "cell_type": "markdown",
   "metadata": {},
   "source": [
    "### String interpolation"
   ]
  },
  {
   "cell_type": "markdown",
   "metadata": {},
   "source": [
    "Suppose we wish to greet the user. We would like to do"
   ]
  },
  {
   "cell_type": "code",
   "execution_count": null,
   "metadata": {
    "collapsed": false
   },
   "outputs": [],
   "source": [
    "greeting = \"Hello, name, how are you?\""
   ]
  },
  {
   "cell_type": "markdown",
   "metadata": {},
   "source": [
    "We would like to substitute the *value* of the variable `name` in the string where the word `name` currently is.\n",
    "This may be done using a dollar sign (`$`):"
   ]
  },
  {
   "cell_type": "code",
   "execution_count": null,
   "metadata": {
    "collapsed": false
   },
   "outputs": [],
   "source": [
    "greeting = \"Hello, $name, how are you?\""
   ]
  },
  {
   "cell_type": "markdown",
   "metadata": {},
   "source": [
    "[5] Use this to redo exercise [4]."
   ]
  },
  {
   "cell_type": "markdown",
   "metadata": {},
   "source": [
    "# Basic functions"
   ]
  },
  {
   "cell_type": "markdown",
   "metadata": {},
   "source": [
    "Functions are fundamental en mathematics, physics and computer science.\n",
    "In Julia, functions take zero or more arguments, and return zero or more results.\n",
    "\n",
    "Julia provides two types of syntax for defining functions: a concise mathematical-type notation for one-line definitions, and an extended notation for longer functions:"
   ]
  },
  {
   "cell_type": "code",
   "execution_count": 6,
   "metadata": {
    "collapsed": false
   },
   "outputs": [
    {
     "data": {
      "text/plain": [
       "f (generic function with 1 method)"
      ]
     },
     "execution_count": 6,
     "metadata": {},
     "output_type": "execute_result"
    }
   ],
   "source": [
    "f(x) = 2x^2   # note that (currently) no multiplication sign is required"
   ]
  },
  {
   "cell_type": "markdown",
   "metadata": {},
   "source": [
    "[Line comments are begun with `#`; multi-line comments are written `#= ... =#`.]"
   ]
  },
  {
   "cell_type": "markdown",
   "metadata": {},
   "source": [
    "[1] The name `f` now denotes an object. What type does it have?\n",
    "\n",
    "[2] Define a function $g(x) = (x+1)^2$ and a function $h$ which is the expansion of that.\n",
    "Define a third function that checks if those two functions do indeed return the same for a given value of $x$."
   ]
  },
  {
   "cell_type": "markdown",
   "metadata": {},
   "source": [
    "The extended syntax for defining functions is"
   ]
  },
  {
   "cell_type": "code",
   "execution_count": 7,
   "metadata": {
    "collapsed": false
   },
   "outputs": [
    {
     "data": {
      "text/plain": [
       "F (generic function with 1 method)"
      ]
     },
     "execution_count": 7,
     "metadata": {},
     "output_type": "execute_result"
    }
   ],
   "source": [
    "function F(x)\n",
    "    x += 1   # equivalent to  x = x + 1\n",
    "    x^2  # no return statement required\n",
    "end"
   ]
  },
  {
   "cell_type": "markdown",
   "metadata": {},
   "source": [
    "Note that the value returned by the function is the value of the last expression calculated in the function.\n",
    "The keyword `return` is also avalable."
   ]
  },
  {
   "cell_type": "markdown",
   "metadata": {},
   "source": [
    "[3] Define functions to calculate the volume and surface area of a sphere. Check that the numerical derivative of one is close to the other.\n",
    "\n",
    "Note that you can provide default values to function arguments.\n",
    "\n",
    "There is much more to functions in Julia, as we will see later."
   ]
  }
 ],
 "metadata": {
  "kernelspec": {
   "display_name": "Julia 0.3.8-pre",
   "language": "julia",
   "name": "julia 0.3"
  },
  "language_info": {
   "name": "julia",
   "version": "0.3.10"
  }
 },
 "nbformat": 4,
 "nbformat_minor": 0
}

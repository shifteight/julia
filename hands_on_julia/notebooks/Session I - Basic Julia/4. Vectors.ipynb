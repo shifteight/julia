{
 "cells": [
  {
   "cell_type": "markdown",
   "metadata": {},
   "source": [
    "# Vectors"
   ]
  },
  {
   "cell_type": "markdown",
   "metadata": {},
   "source": [
    "Arrays (vectors, matrices, etc.) in Julia have a dual function: \n",
    "\n",
    "1. They act as *containers* that store information;\n",
    "2. They behave like mathematical vectors and matrices."
   ]
  },
  {
   "cell_type": "markdown",
   "metadata": {},
   "source": [
    "[1] Define two vectors `v` y `w` with three components each.\n",
    "\n",
    "[2] Try doing vector space operations on the vectors (adding two vectors, multiplying a vector by a scalar).\n",
    "\n",
    "[3] Try multiplying two vectors. Does this work? What could/should this mean? If you want *element-by-element* operations, add a `.` before the operator name, e.g.  \"`.*`\" (MATLAB style). What about division?\n",
    "\n",
    "[4] Guess the names for dot and cross product. Since Julia tries, when possible, to allow Unicode for mathematical notation, these can also be written\n",
    "as `\\cdot<TAB>` and `\\times<TAB>`. Try it.\n",
    "\n",
    "[5] Many mathematical functions are defined to act component-wise on vectors. Try your favourite ones. "
   ]
  },
  {
   "cell_type": "markdown",
   "metadata": {},
   "source": [
    "# Creating vectors"
   ]
  },
  {
   "cell_type": "markdown",
   "metadata": {},
   "source": [
    "There are various utility functions for creating vectors:\n",
    "\n",
    "[1] Experiment with `zeros`, `ones`\n",
    "\n",
    "Concatenation is possible using `;` inside the `[...]`.\n",
    "\n",
    "[2] Create a vector containing 1 to 10, 20 to 30, followed by 100, using concatenation."
   ]
  },
  {
   "cell_type": "markdown",
   "metadata": {},
   "source": [
    "# Array comprehensions"
   ]
  },
  {
   "cell_type": "markdown",
   "metadata": {},
   "source": [
    "Julia provides a powerful *array comprehension*  syntax for constructing vectors (or, in general, arrays) from another sequence.\n",
    "This provides a syntax similar to the mathematical definition of a set; for example, the set $S$ defined by\n",
    "\n",
    "$$S := \\{ x^2 : x \\in \\{1, \\ldots, 10 \\} \\}$$\n",
    "\n",
    "is the set of the squares of the numbers from 1 to 10. In Julia we can accomplish this as\n",
    "\n",
    "    S = [x^2 for x in 1:10]"
   ]
  },
  {
   "cell_type": "markdown",
   "metadata": {},
   "source": [
    "[1] Use an array comprehension to define a function `my_exp` that gives an approximation to the exponential function.\n",
    "\n",
    "[2] How could we use this to calculate `my_sin` and `my_cos`?"
   ]
  },
  {
   "cell_type": "markdown",
   "metadata": {},
   "source": [
    "# Constructing vectors: `map`, `filter`"
   ]
  },
  {
   "cell_type": "markdown",
   "metadata": {},
   "source": [
    "Given a vector (or, in general, an iterable), another vector may be created by applying a given function to each element\n",
    "Two useful higher-order functions in Julia are:\n",
    "1. `map`:    apply a given function to each element of a given iterable\n",
    "2. `filter`: return only those elements for which a given condition is satisfied.\n",
    "\n",
    "[6] Experiment with `map`. \n",
    "\n",
    "[7] Check the relative performance of `map` and an array comprehension for the same function and vector.\n",
    "\n",
    "`filter` is often used with an *anonymous function* -- a function created with no name, for the sole purpose of using it in the `filter`. The Julia syntax for a function is similar to the mathematical syntax $x \\mapsto 3x^2$:\n",
    "\n",
    "    filter(x -> x < 10,  v)\n",
    "    \n",
    "[8] What kind of object is `x -> x < 10`?  (You can assign this to a variable.) Check that anonymous functions may also be \n",
    "    \n",
    "[8] Check the relative performance of `filter` and the following syntax that also selects those elements of the array satisfying the given condition:\n",
    "\n",
    "    v[v .< 10]\n",
    "    \n",
    "[9] What does `v .< 10` by itself do?\n",
    "\n",
    "[Note that higher-order functions and anonymous functions are commonly thought to be \"slow\" currently in Julia, and so should not be used in performance-critical parts of code.]"
   ]
  },
  {
   "cell_type": "code",
   "execution_count": null,
   "metadata": {
    "collapsed": true
   },
   "outputs": [],
   "source": []
  }
 ],
 "metadata": {
  "kernelspec": {
   "display_name": "Julia 0.3.8-pre",
   "language": "julia",
   "name": "julia 0.3"
  },
  "language_info": {
   "name": "julia",
   "version": "0.3.10"
  }
 },
 "nbformat": 4,
 "nbformat_minor": 0
}
